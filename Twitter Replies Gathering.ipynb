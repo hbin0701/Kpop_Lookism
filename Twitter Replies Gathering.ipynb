{
 "cells": [
  {
   "cell_type": "code",
   "execution_count": 40,
   "id": "1f53ca57",
   "metadata": {},
   "outputs": [],
   "source": [
    "import json\n",
    "idols = json.load(open(\"all_idols_with_bb.json\"))"
   ]
  },
  {
   "cell_type": "code",
   "execution_count": 90,
   "id": "f3d47800",
   "metadata": {},
   "outputs": [],
   "source": [
    "# tweepy 패키지를 불러옵니다.\n",
    "import tweepy \n",
    "\n",
    "# 트위터 Application에서 발급 받은 key 정보들 문자열로 입력\n",
    "\n",
    "consumer_key = \"NOT SHOWN\"\n",
    "consumer_secret = \"NOT SHOWN\"\n",
    "access_token = \"NOT SHOWN\"\n",
    "access_token_secret = \"NOT SHOWN\"\n",
    "\n",
    "# 핸들러를 생성하고 개인정보 인증요청을 합니다.\n",
    "auth = tweepy.OAuthHandler(consumer_key, consumer_secret)\n",
    "\n",
    "# 엑세스 요청\n",
    "auth.set_access_token(access_token, access_token_secret)\n",
    "\n",
    "# twitter API 생성\n",
    "api = tweepy.API(auth, wait_on_rate_limit=True)"
   ]
  },
  {
   "cell_type": "code",
   "execution_count": 80,
   "id": "a1197f09",
   "metadata": {},
   "outputs": [],
   "source": [
    "import random\n",
    "\n",
    "## SELECT N posts with images (w. face). 50 posts wihtout images.\n",
    "selected_posts = [{\"with_images\": [], \"without_images\": []} for _ in range(4)]\n",
    "\n",
    "# Process BTS first.\n",
    "for idx, idol in enumerate(idols):\n",
    "    for x in idol:\n",
    "        elem = idol[x]\n",
    "        elem['id'] = x\n",
    "\n",
    "        if not elem['img_link']:\n",
    "            selected_posts[idx][\"without_images\"].append(elem)\n",
    "\n",
    "        elif 'bounding_box' in elem:\n",
    "            selected_posts[idx][\"with_images\"].append(elem)\n",
    "            \n",
    "quantity = 50\n",
    "\n",
    "# Let us choose 50 randomly for each.\n",
    "for x in selected_posts:\n",
    "    random.shuffle(x[\"with_images\"])\n",
    "    random.shuffle(x[\"without_images\"])\n",
    "    \n",
    "    x[\"with_images\"] = x[\"with_images\"][:quantity]\n",
    "    x[\"without_images\"] = x[\"without_images\"][:quantity]"
   ]
  },
  {
   "cell_type": "code",
   "execution_count": 136,
   "id": "59982fdf",
   "metadata": {},
   "outputs": [
    {
     "data": {
      "application/json": {
       "ascii": false,
       "bar_format": null,
       "colour": null,
       "elapsed": 0.02179718017578125,
       "initial": 0,
       "n": 0,
       "ncols": null,
       "nrows": 24,
       "postfix": null,
       "prefix": "",
       "rate": null,
       "total": null,
       "unit": "it",
       "unit_divisor": 1000,
       "unit_scale": false
      },
      "application/vnd.jupyter.widget-view+json": {
       "model_id": "c02cb2297d37436ebb7df8ed579a2ef9",
       "version_major": 2,
       "version_minor": 0
      },
      "text/plain": [
       "0it [00:00, ?it/s]"
      ]
     },
     "metadata": {},
     "output_type": "display_data"
    },
    {
     "ename": "KeyboardInterrupt",
     "evalue": "",
     "output_type": "error",
     "traceback": [
      "\u001b[0;31m---------------------------------------------------------------------------\u001b[0m",
      "\u001b[0;31mKeyboardInterrupt\u001b[0m                         Traceback (most recent call last)",
      "Input \u001b[0;32mIn [136]\u001b[0m, in \u001b[0;36m<cell line: 4>\u001b[0;34m()\u001b[0m\n\u001b[1;32m      2\u001b[0m name \u001b[38;5;241m=\u001b[39m \u001b[38;5;124m\"\u001b[39m\u001b[38;5;124m@bts_bighit\u001b[39m\u001b[38;5;124m\"\u001b[39m\n\u001b[1;32m      3\u001b[0m tweet_id \u001b[38;5;241m=\u001b[39m \u001b[38;5;28mid\u001b[39m\n\u001b[0;32m----> 4\u001b[0m \u001b[38;5;28;01mfor\u001b[39;00m tweet \u001b[38;5;129;01min\u001b[39;00m tqdm(tweepy\u001b[38;5;241m.\u001b[39mCursor(api\u001b[38;5;241m.\u001b[39msearch_tweets,q\u001b[38;5;241m=\u001b[39m\u001b[38;5;124m'\u001b[39m\u001b[38;5;124mto:\u001b[39m\u001b[38;5;124m'\u001b[39m\u001b[38;5;241m+\u001b[39mname, result_type\u001b[38;5;241m=\u001b[39m\u001b[38;5;124m'\u001b[39m\u001b[38;5;124mrecent\u001b[39m\u001b[38;5;124m'\u001b[39m)\u001b[38;5;241m.\u001b[39mitems(\u001b[38;5;241m10000\u001b[39m)):\n\u001b[1;32m      5\u001b[0m     replies\u001b[38;5;241m.\u001b[39mappend(tweet)\n",
      "File \u001b[0;32m~/miniforge3/lib/python3.9/site-packages/tqdm/notebook.py:257\u001b[0m, in \u001b[0;36mtqdm_notebook.__iter__\u001b[0;34m(self)\u001b[0m\n\u001b[1;32m    255\u001b[0m \u001b[38;5;28;01mdef\u001b[39;00m \u001b[38;5;21m__iter__\u001b[39m(\u001b[38;5;28mself\u001b[39m):\n\u001b[1;32m    256\u001b[0m     \u001b[38;5;28;01mtry\u001b[39;00m:\n\u001b[0;32m--> 257\u001b[0m         \u001b[38;5;28;01mfor\u001b[39;00m obj \u001b[38;5;129;01min\u001b[39;00m \u001b[38;5;28msuper\u001b[39m(tqdm_notebook, \u001b[38;5;28mself\u001b[39m)\u001b[38;5;241m.\u001b[39m\u001b[38;5;21m__iter__\u001b[39m():\n\u001b[1;32m    258\u001b[0m             \u001b[38;5;66;03m# return super(tqdm...) will not catch exception\u001b[39;00m\n\u001b[1;32m    259\u001b[0m             \u001b[38;5;28;01myield\u001b[39;00m obj\n\u001b[1;32m    260\u001b[0m     \u001b[38;5;66;03m# NB: except ... [ as ...] breaks IPython async KeyboardInterrupt\u001b[39;00m\n",
      "File \u001b[0;32m~/miniforge3/lib/python3.9/site-packages/tqdm/std.py:1180\u001b[0m, in \u001b[0;36mtqdm.__iter__\u001b[0;34m(self)\u001b[0m\n\u001b[1;32m   1177\u001b[0m time \u001b[38;5;241m=\u001b[39m \u001b[38;5;28mself\u001b[39m\u001b[38;5;241m.\u001b[39m_time\n\u001b[1;32m   1179\u001b[0m \u001b[38;5;28;01mtry\u001b[39;00m:\n\u001b[0;32m-> 1180\u001b[0m     \u001b[38;5;28;01mfor\u001b[39;00m obj \u001b[38;5;129;01min\u001b[39;00m iterable:\n\u001b[1;32m   1181\u001b[0m         \u001b[38;5;28;01myield\u001b[39;00m obj\n\u001b[1;32m   1182\u001b[0m         \u001b[38;5;66;03m# Update and possibly print the progressbar.\u001b[39;00m\n\u001b[1;32m   1183\u001b[0m         \u001b[38;5;66;03m# Note: does not call self.update(1) for speed optimisation.\u001b[39;00m\n",
      "File \u001b[0;32m~/miniforge3/lib/python3.9/site-packages/tweepy/cursor.py:86\u001b[0m, in \u001b[0;36mBaseIterator.__next__\u001b[0;34m(self)\u001b[0m\n\u001b[1;32m     85\u001b[0m \u001b[38;5;28;01mdef\u001b[39;00m \u001b[38;5;21m__next__\u001b[39m(\u001b[38;5;28mself\u001b[39m):\n\u001b[0;32m---> 86\u001b[0m     \u001b[38;5;28;01mreturn\u001b[39;00m \u001b[38;5;28;43mself\u001b[39;49m\u001b[38;5;241;43m.\u001b[39;49m\u001b[43mnext\u001b[49m\u001b[43m(\u001b[49m\u001b[43m)\u001b[49m\n",
      "File \u001b[0;32m~/miniforge3/lib/python3.9/site-packages/tweepy/cursor.py:286\u001b[0m, in \u001b[0;36mItemIterator.next\u001b[0;34m(self)\u001b[0m\n\u001b[1;32m    283\u001b[0m     \u001b[38;5;28;01mraise\u001b[39;00m \u001b[38;5;167;01mStopIteration\u001b[39;00m\n\u001b[1;32m    284\u001b[0m \u001b[38;5;28;01mif\u001b[39;00m \u001b[38;5;28mself\u001b[39m\u001b[38;5;241m.\u001b[39mcurrent_page \u001b[38;5;129;01mis\u001b[39;00m \u001b[38;5;28;01mNone\u001b[39;00m \u001b[38;5;129;01mor\u001b[39;00m \u001b[38;5;28mself\u001b[39m\u001b[38;5;241m.\u001b[39mpage_index \u001b[38;5;241m==\u001b[39m \u001b[38;5;28mlen\u001b[39m(\u001b[38;5;28mself\u001b[39m\u001b[38;5;241m.\u001b[39mcurrent_page) \u001b[38;5;241m-\u001b[39m \u001b[38;5;241m1\u001b[39m:\n\u001b[1;32m    285\u001b[0m     \u001b[38;5;66;03m# Reached end of current page, get the next page...\u001b[39;00m\n\u001b[0;32m--> 286\u001b[0m     \u001b[38;5;28mself\u001b[39m\u001b[38;5;241m.\u001b[39mcurrent_page \u001b[38;5;241m=\u001b[39m \u001b[38;5;28;43mnext\u001b[39;49m\u001b[43m(\u001b[49m\u001b[38;5;28;43mself\u001b[39;49m\u001b[38;5;241;43m.\u001b[39;49m\u001b[43mpage_iterator\u001b[49m\u001b[43m)\u001b[49m\n\u001b[1;32m    287\u001b[0m     \u001b[38;5;28;01mwhile\u001b[39;00m \u001b[38;5;28mlen\u001b[39m(\u001b[38;5;28mself\u001b[39m\u001b[38;5;241m.\u001b[39mcurrent_page) \u001b[38;5;241m==\u001b[39m \u001b[38;5;241m0\u001b[39m:\n\u001b[1;32m    288\u001b[0m         \u001b[38;5;28mself\u001b[39m\u001b[38;5;241m.\u001b[39mcurrent_page \u001b[38;5;241m=\u001b[39m \u001b[38;5;28mnext\u001b[39m(\u001b[38;5;28mself\u001b[39m\u001b[38;5;241m.\u001b[39mpage_iterator)\n",
      "File \u001b[0;32m~/miniforge3/lib/python3.9/site-packages/tweepy/cursor.py:86\u001b[0m, in \u001b[0;36mBaseIterator.__next__\u001b[0;34m(self)\u001b[0m\n\u001b[1;32m     85\u001b[0m \u001b[38;5;28;01mdef\u001b[39;00m \u001b[38;5;21m__next__\u001b[39m(\u001b[38;5;28mself\u001b[39m):\n\u001b[0;32m---> 86\u001b[0m     \u001b[38;5;28;01mreturn\u001b[39;00m \u001b[38;5;28;43mself\u001b[39;49m\u001b[38;5;241;43m.\u001b[39;49m\u001b[43mnext\u001b[49m\u001b[43m(\u001b[49m\u001b[43m)\u001b[49m\n",
      "File \u001b[0;32m~/miniforge3/lib/python3.9/site-packages/tweepy/cursor.py:167\u001b[0m, in \u001b[0;36mIdIterator.next\u001b[0;34m(self)\u001b[0m\n\u001b[1;32m    164\u001b[0m     \u001b[38;5;28;01mraise\u001b[39;00m \u001b[38;5;167;01mStopIteration\u001b[39;00m\n\u001b[1;32m    166\u001b[0m \u001b[38;5;28;01mif\u001b[39;00m \u001b[38;5;28mself\u001b[39m\u001b[38;5;241m.\u001b[39mindex \u001b[38;5;241m>\u001b[39m\u001b[38;5;241m=\u001b[39m \u001b[38;5;28mlen\u001b[39m(\u001b[38;5;28mself\u001b[39m\u001b[38;5;241m.\u001b[39mresults) \u001b[38;5;241m-\u001b[39m \u001b[38;5;241m1\u001b[39m:\n\u001b[0;32m--> 167\u001b[0m     data \u001b[38;5;241m=\u001b[39m \u001b[38;5;28;43mself\u001b[39;49m\u001b[38;5;241;43m.\u001b[39;49m\u001b[43mmethod\u001b[49m\u001b[43m(\u001b[49m\u001b[43mmax_id\u001b[49m\u001b[38;5;241;43m=\u001b[39;49m\u001b[38;5;28;43mself\u001b[39;49m\u001b[38;5;241;43m.\u001b[39;49m\u001b[43mmax_id\u001b[49m\u001b[43m,\u001b[49m\u001b[43m \u001b[49m\u001b[43mparser\u001b[49m\u001b[38;5;241;43m=\u001b[39;49m\u001b[43mRawParser\u001b[49m\u001b[43m(\u001b[49m\u001b[43m)\u001b[49m\u001b[43m,\u001b[49m\u001b[43m \u001b[49m\u001b[38;5;241;43m*\u001b[39;49m\u001b[38;5;28;43mself\u001b[39;49m\u001b[38;5;241;43m.\u001b[39;49m\u001b[43margs\u001b[49m\u001b[43m,\u001b[49m\u001b[43m \u001b[49m\u001b[38;5;241;43m*\u001b[39;49m\u001b[38;5;241;43m*\u001b[39;49m\u001b[38;5;28;43mself\u001b[39;49m\u001b[38;5;241;43m.\u001b[39;49m\u001b[43mkwargs\u001b[49m\u001b[43m)\u001b[49m\n\u001b[1;32m    169\u001b[0m     model \u001b[38;5;241m=\u001b[39m ModelParser()\u001b[38;5;241m.\u001b[39mparse(\n\u001b[1;32m    170\u001b[0m         data, api \u001b[38;5;241m=\u001b[39m \u001b[38;5;28mself\u001b[39m\u001b[38;5;241m.\u001b[39mmethod\u001b[38;5;241m.\u001b[39m\u001b[38;5;18m__self__\u001b[39m,\n\u001b[1;32m    171\u001b[0m         payload_list\u001b[38;5;241m=\u001b[39m\u001b[38;5;28mself\u001b[39m\u001b[38;5;241m.\u001b[39mmethod\u001b[38;5;241m.\u001b[39mpayload_list,\n\u001b[1;32m    172\u001b[0m         payload_type\u001b[38;5;241m=\u001b[39m\u001b[38;5;28mself\u001b[39m\u001b[38;5;241m.\u001b[39mmethod\u001b[38;5;241m.\u001b[39mpayload_type\n\u001b[1;32m    173\u001b[0m     )\n\u001b[1;32m    174\u001b[0m     result \u001b[38;5;241m=\u001b[39m \u001b[38;5;28mself\u001b[39m\u001b[38;5;241m.\u001b[39mmethod\u001b[38;5;241m.\u001b[39m\u001b[38;5;18m__self__\u001b[39m\u001b[38;5;241m.\u001b[39mparser\u001b[38;5;241m.\u001b[39mparse(\n\u001b[1;32m    175\u001b[0m         data, api \u001b[38;5;241m=\u001b[39m \u001b[38;5;28mself\u001b[39m\u001b[38;5;241m.\u001b[39mmethod\u001b[38;5;241m.\u001b[39m\u001b[38;5;18m__self__\u001b[39m,\n\u001b[1;32m    176\u001b[0m         payload_list\u001b[38;5;241m=\u001b[39m\u001b[38;5;28mself\u001b[39m\u001b[38;5;241m.\u001b[39mmethod\u001b[38;5;241m.\u001b[39mpayload_list,\n\u001b[1;32m    177\u001b[0m         payload_type\u001b[38;5;241m=\u001b[39m\u001b[38;5;28mself\u001b[39m\u001b[38;5;241m.\u001b[39mmethod\u001b[38;5;241m.\u001b[39mpayload_type\n\u001b[1;32m    178\u001b[0m     )\n",
      "File \u001b[0;32m~/miniforge3/lib/python3.9/site-packages/tweepy/api.py:33\u001b[0m, in \u001b[0;36mpagination.<locals>.decorator.<locals>.wrapper\u001b[0;34m(*args, **kwargs)\u001b[0m\n\u001b[1;32m     31\u001b[0m \u001b[38;5;129m@functools\u001b[39m\u001b[38;5;241m.\u001b[39mwraps(method)\n\u001b[1;32m     32\u001b[0m \u001b[38;5;28;01mdef\u001b[39;00m \u001b[38;5;21mwrapper\u001b[39m(\u001b[38;5;241m*\u001b[39margs, \u001b[38;5;241m*\u001b[39m\u001b[38;5;241m*\u001b[39mkwargs):\n\u001b[0;32m---> 33\u001b[0m     \u001b[38;5;28;01mreturn\u001b[39;00m \u001b[43mmethod\u001b[49m\u001b[43m(\u001b[49m\u001b[38;5;241;43m*\u001b[39;49m\u001b[43margs\u001b[49m\u001b[43m,\u001b[49m\u001b[43m \u001b[49m\u001b[38;5;241;43m*\u001b[39;49m\u001b[38;5;241;43m*\u001b[39;49m\u001b[43mkwargs\u001b[49m\u001b[43m)\u001b[49m\n",
      "File \u001b[0;32m~/miniforge3/lib/python3.9/site-packages/tweepy/api.py:46\u001b[0m, in \u001b[0;36mpayload.<locals>.decorator.<locals>.wrapper\u001b[0;34m(*args, **kwargs)\u001b[0m\n\u001b[1;32m     44\u001b[0m kwargs[\u001b[38;5;124m'\u001b[39m\u001b[38;5;124mpayload_list\u001b[39m\u001b[38;5;124m'\u001b[39m] \u001b[38;5;241m=\u001b[39m payload_list\n\u001b[1;32m     45\u001b[0m kwargs[\u001b[38;5;124m'\u001b[39m\u001b[38;5;124mpayload_type\u001b[39m\u001b[38;5;124m'\u001b[39m] \u001b[38;5;241m=\u001b[39m payload_type\n\u001b[0;32m---> 46\u001b[0m \u001b[38;5;28;01mreturn\u001b[39;00m \u001b[43mmethod\u001b[49m\u001b[43m(\u001b[49m\u001b[38;5;241;43m*\u001b[39;49m\u001b[43margs\u001b[49m\u001b[43m,\u001b[49m\u001b[43m \u001b[49m\u001b[38;5;241;43m*\u001b[39;49m\u001b[38;5;241;43m*\u001b[39;49m\u001b[43mkwargs\u001b[49m\u001b[43m)\u001b[49m\n",
      "File \u001b[0;32m~/miniforge3/lib/python3.9/site-packages/tweepy/api.py:1309\u001b[0m, in \u001b[0;36mAPI.search_tweets\u001b[0;34m(self, q, **kwargs)\u001b[0m\n\u001b[1;32m   1215\u001b[0m \u001b[38;5;129m@pagination\u001b[39m(mode\u001b[38;5;241m=\u001b[39m\u001b[38;5;124m'\u001b[39m\u001b[38;5;124mid\u001b[39m\u001b[38;5;124m'\u001b[39m)\n\u001b[1;32m   1216\u001b[0m \u001b[38;5;129m@payload\u001b[39m(\u001b[38;5;124m'\u001b[39m\u001b[38;5;124msearch_results\u001b[39m\u001b[38;5;124m'\u001b[39m)\n\u001b[1;32m   1217\u001b[0m \u001b[38;5;28;01mdef\u001b[39;00m \u001b[38;5;21msearch_tweets\u001b[39m(\u001b[38;5;28mself\u001b[39m, q, \u001b[38;5;241m*\u001b[39m\u001b[38;5;241m*\u001b[39mkwargs):\n\u001b[1;32m   1218\u001b[0m     \u001b[38;5;124;03m\"\"\"search_tweets(q, *, geocode, lang, locale, result_type, count, \\\u001b[39;00m\n\u001b[1;32m   1219\u001b[0m \u001b[38;5;124;03m                     until, since_id, max_id, include_entities)\u001b[39;00m\n\u001b[1;32m   1220\u001b[0m \n\u001b[0;32m   (...)\u001b[0m\n\u001b[1;32m   1307\u001b[0m \u001b[38;5;124;03m    .. _Twitter's documentation on the standard search API: https://developer.twitter.com/en/docs/twitter-api/v1/tweets/search/overview\u001b[39;00m\n\u001b[1;32m   1308\u001b[0m \u001b[38;5;124;03m    \"\"\"\u001b[39;00m\n\u001b[0;32m-> 1309\u001b[0m     \u001b[38;5;28;01mreturn\u001b[39;00m \u001b[38;5;28;43mself\u001b[39;49m\u001b[38;5;241;43m.\u001b[39;49m\u001b[43mrequest\u001b[49m\u001b[43m(\u001b[49m\n\u001b[1;32m   1310\u001b[0m \u001b[43m        \u001b[49m\u001b[38;5;124;43m'\u001b[39;49m\u001b[38;5;124;43mGET\u001b[39;49m\u001b[38;5;124;43m'\u001b[39;49m\u001b[43m,\u001b[49m\u001b[43m \u001b[49m\u001b[38;5;124;43m'\u001b[39;49m\u001b[38;5;124;43msearch/tweets\u001b[39;49m\u001b[38;5;124;43m'\u001b[39;49m\u001b[43m,\u001b[49m\u001b[43m \u001b[49m\u001b[43mendpoint_parameters\u001b[49m\u001b[38;5;241;43m=\u001b[39;49m\u001b[43m(\u001b[49m\n\u001b[1;32m   1311\u001b[0m \u001b[43m            \u001b[49m\u001b[38;5;124;43m'\u001b[39;49m\u001b[38;5;124;43mq\u001b[39;49m\u001b[38;5;124;43m'\u001b[39;49m\u001b[43m,\u001b[49m\u001b[43m \u001b[49m\u001b[38;5;124;43m'\u001b[39;49m\u001b[38;5;124;43mgeocode\u001b[39;49m\u001b[38;5;124;43m'\u001b[39;49m\u001b[43m,\u001b[49m\u001b[43m \u001b[49m\u001b[38;5;124;43m'\u001b[39;49m\u001b[38;5;124;43mlang\u001b[39;49m\u001b[38;5;124;43m'\u001b[39;49m\u001b[43m,\u001b[49m\u001b[43m \u001b[49m\u001b[38;5;124;43m'\u001b[39;49m\u001b[38;5;124;43mlocale\u001b[39;49m\u001b[38;5;124;43m'\u001b[39;49m\u001b[43m,\u001b[49m\u001b[43m \u001b[49m\u001b[38;5;124;43m'\u001b[39;49m\u001b[38;5;124;43mresult_type\u001b[39;49m\u001b[38;5;124;43m'\u001b[39;49m\u001b[43m,\u001b[49m\u001b[43m \u001b[49m\u001b[38;5;124;43m'\u001b[39;49m\u001b[38;5;124;43mcount\u001b[39;49m\u001b[38;5;124;43m'\u001b[39;49m\u001b[43m,\u001b[49m\n\u001b[1;32m   1312\u001b[0m \u001b[43m            \u001b[49m\u001b[38;5;124;43m'\u001b[39;49m\u001b[38;5;124;43muntil\u001b[39;49m\u001b[38;5;124;43m'\u001b[39;49m\u001b[43m,\u001b[49m\u001b[43m \u001b[49m\u001b[38;5;124;43m'\u001b[39;49m\u001b[38;5;124;43msince_id\u001b[39;49m\u001b[38;5;124;43m'\u001b[39;49m\u001b[43m,\u001b[49m\u001b[43m \u001b[49m\u001b[38;5;124;43m'\u001b[39;49m\u001b[38;5;124;43mmax_id\u001b[39;49m\u001b[38;5;124;43m'\u001b[39;49m\u001b[43m,\u001b[49m\u001b[43m \u001b[49m\u001b[38;5;124;43m'\u001b[39;49m\u001b[38;5;124;43minclude_entities\u001b[39;49m\u001b[38;5;124;43m'\u001b[39;49m\n\u001b[1;32m   1313\u001b[0m \u001b[43m        \u001b[49m\u001b[43m)\u001b[49m\u001b[43m,\u001b[49m\u001b[43m \u001b[49m\u001b[43mq\u001b[49m\u001b[38;5;241;43m=\u001b[39;49m\u001b[43mq\u001b[49m\u001b[43m,\u001b[49m\u001b[43m \u001b[49m\u001b[38;5;241;43m*\u001b[39;49m\u001b[38;5;241;43m*\u001b[39;49m\u001b[43mkwargs\u001b[49m\n\u001b[1;32m   1314\u001b[0m \u001b[43m    \u001b[49m\u001b[43m)\u001b[49m\n",
      "File \u001b[0;32m~/miniforge3/lib/python3.9/site-packages/tweepy/api.py:222\u001b[0m, in \u001b[0;36mAPI.request\u001b[0;34m(self, method, endpoint, endpoint_parameters, params, headers, json_payload, parser, payload_list, payload_type, post_data, files, require_auth, return_cursors, upload_api, use_cache, **kwargs)\u001b[0m\n\u001b[1;32m    220\u001b[0m \u001b[38;5;66;03m# Execute request\u001b[39;00m\n\u001b[1;32m    221\u001b[0m \u001b[38;5;28;01mtry\u001b[39;00m:\n\u001b[0;32m--> 222\u001b[0m     resp \u001b[38;5;241m=\u001b[39m \u001b[38;5;28;43mself\u001b[39;49m\u001b[38;5;241;43m.\u001b[39;49m\u001b[43msession\u001b[49m\u001b[38;5;241;43m.\u001b[39;49m\u001b[43mrequest\u001b[49m\u001b[43m(\u001b[49m\n\u001b[1;32m    223\u001b[0m \u001b[43m        \u001b[49m\u001b[43mmethod\u001b[49m\u001b[43m,\u001b[49m\u001b[43m \u001b[49m\u001b[43murl\u001b[49m\u001b[43m,\u001b[49m\u001b[43m \u001b[49m\u001b[43mparams\u001b[49m\u001b[38;5;241;43m=\u001b[39;49m\u001b[43mparams\u001b[49m\u001b[43m,\u001b[49m\u001b[43m \u001b[49m\u001b[43mheaders\u001b[49m\u001b[38;5;241;43m=\u001b[39;49m\u001b[43mheaders\u001b[49m\u001b[43m,\u001b[49m\n\u001b[1;32m    224\u001b[0m \u001b[43m        \u001b[49m\u001b[43mdata\u001b[49m\u001b[38;5;241;43m=\u001b[39;49m\u001b[43mpost_data\u001b[49m\u001b[43m,\u001b[49m\u001b[43m \u001b[49m\u001b[43mfiles\u001b[49m\u001b[38;5;241;43m=\u001b[39;49m\u001b[43mfiles\u001b[49m\u001b[43m,\u001b[49m\u001b[43m \u001b[49m\u001b[43mjson\u001b[49m\u001b[38;5;241;43m=\u001b[39;49m\u001b[43mjson_payload\u001b[49m\u001b[43m,\u001b[49m\n\u001b[1;32m    225\u001b[0m \u001b[43m        \u001b[49m\u001b[43mtimeout\u001b[49m\u001b[38;5;241;43m=\u001b[39;49m\u001b[38;5;28;43mself\u001b[39;49m\u001b[38;5;241;43m.\u001b[39;49m\u001b[43mtimeout\u001b[49m\u001b[43m,\u001b[49m\u001b[43m \u001b[49m\u001b[43mauth\u001b[49m\u001b[38;5;241;43m=\u001b[39;49m\u001b[43mauth\u001b[49m\u001b[43m,\u001b[49m\u001b[43m \u001b[49m\u001b[43mproxies\u001b[49m\u001b[38;5;241;43m=\u001b[39;49m\u001b[38;5;28;43mself\u001b[39;49m\u001b[38;5;241;43m.\u001b[39;49m\u001b[43mproxy\u001b[49m\n\u001b[1;32m    226\u001b[0m \u001b[43m    \u001b[49m\u001b[43m)\u001b[49m\n\u001b[1;32m    227\u001b[0m \u001b[38;5;28;01mexcept\u001b[39;00m \u001b[38;5;167;01mException\u001b[39;00m \u001b[38;5;28;01mas\u001b[39;00m e:\n\u001b[1;32m    228\u001b[0m     \u001b[38;5;28;01mraise\u001b[39;00m TweepyException(\u001b[38;5;124mf\u001b[39m\u001b[38;5;124m'\u001b[39m\u001b[38;5;124mFailed to send request: \u001b[39m\u001b[38;5;132;01m{\u001b[39;00me\u001b[38;5;132;01m}\u001b[39;00m\u001b[38;5;124m'\u001b[39m)\u001b[38;5;241m.\u001b[39mwith_traceback(sys\u001b[38;5;241m.\u001b[39mexc_info()[\u001b[38;5;241m2\u001b[39m])\n",
      "File \u001b[0;32m~/miniforge3/lib/python3.9/site-packages/requests/sessions.py:587\u001b[0m, in \u001b[0;36mSession.request\u001b[0;34m(self, method, url, params, data, headers, cookies, files, auth, timeout, allow_redirects, proxies, hooks, stream, verify, cert, json)\u001b[0m\n\u001b[1;32m    582\u001b[0m send_kwargs \u001b[38;5;241m=\u001b[39m {\n\u001b[1;32m    583\u001b[0m     \u001b[38;5;124m\"\u001b[39m\u001b[38;5;124mtimeout\u001b[39m\u001b[38;5;124m\"\u001b[39m: timeout,\n\u001b[1;32m    584\u001b[0m     \u001b[38;5;124m\"\u001b[39m\u001b[38;5;124mallow_redirects\u001b[39m\u001b[38;5;124m\"\u001b[39m: allow_redirects,\n\u001b[1;32m    585\u001b[0m }\n\u001b[1;32m    586\u001b[0m send_kwargs\u001b[38;5;241m.\u001b[39mupdate(settings)\n\u001b[0;32m--> 587\u001b[0m resp \u001b[38;5;241m=\u001b[39m \u001b[38;5;28;43mself\u001b[39;49m\u001b[38;5;241;43m.\u001b[39;49m\u001b[43msend\u001b[49m\u001b[43m(\u001b[49m\u001b[43mprep\u001b[49m\u001b[43m,\u001b[49m\u001b[43m \u001b[49m\u001b[38;5;241;43m*\u001b[39;49m\u001b[38;5;241;43m*\u001b[39;49m\u001b[43msend_kwargs\u001b[49m\u001b[43m)\u001b[49m\n\u001b[1;32m    589\u001b[0m \u001b[38;5;28;01mreturn\u001b[39;00m resp\n",
      "File \u001b[0;32m~/miniforge3/lib/python3.9/site-packages/requests/sessions.py:701\u001b[0m, in \u001b[0;36mSession.send\u001b[0;34m(self, request, **kwargs)\u001b[0m\n\u001b[1;32m    698\u001b[0m start \u001b[38;5;241m=\u001b[39m preferred_clock()\n\u001b[1;32m    700\u001b[0m \u001b[38;5;66;03m# Send the request\u001b[39;00m\n\u001b[0;32m--> 701\u001b[0m r \u001b[38;5;241m=\u001b[39m \u001b[43madapter\u001b[49m\u001b[38;5;241;43m.\u001b[39;49m\u001b[43msend\u001b[49m\u001b[43m(\u001b[49m\u001b[43mrequest\u001b[49m\u001b[43m,\u001b[49m\u001b[43m \u001b[49m\u001b[38;5;241;43m*\u001b[39;49m\u001b[38;5;241;43m*\u001b[39;49m\u001b[43mkwargs\u001b[49m\u001b[43m)\u001b[49m\n\u001b[1;32m    703\u001b[0m \u001b[38;5;66;03m# Total elapsed time of the request (approximately)\u001b[39;00m\n\u001b[1;32m    704\u001b[0m elapsed \u001b[38;5;241m=\u001b[39m preferred_clock() \u001b[38;5;241m-\u001b[39m start\n",
      "File \u001b[0;32m~/miniforge3/lib/python3.9/site-packages/requests/adapters.py:489\u001b[0m, in \u001b[0;36mHTTPAdapter.send\u001b[0;34m(self, request, stream, timeout, verify, cert, proxies)\u001b[0m\n\u001b[1;32m    487\u001b[0m \u001b[38;5;28;01mtry\u001b[39;00m:\n\u001b[1;32m    488\u001b[0m     \u001b[38;5;28;01mif\u001b[39;00m \u001b[38;5;129;01mnot\u001b[39;00m chunked:\n\u001b[0;32m--> 489\u001b[0m         resp \u001b[38;5;241m=\u001b[39m \u001b[43mconn\u001b[49m\u001b[38;5;241;43m.\u001b[39;49m\u001b[43murlopen\u001b[49m\u001b[43m(\u001b[49m\n\u001b[1;32m    490\u001b[0m \u001b[43m            \u001b[49m\u001b[43mmethod\u001b[49m\u001b[38;5;241;43m=\u001b[39;49m\u001b[43mrequest\u001b[49m\u001b[38;5;241;43m.\u001b[39;49m\u001b[43mmethod\u001b[49m\u001b[43m,\u001b[49m\n\u001b[1;32m    491\u001b[0m \u001b[43m            \u001b[49m\u001b[43murl\u001b[49m\u001b[38;5;241;43m=\u001b[39;49m\u001b[43murl\u001b[49m\u001b[43m,\u001b[49m\n\u001b[1;32m    492\u001b[0m \u001b[43m            \u001b[49m\u001b[43mbody\u001b[49m\u001b[38;5;241;43m=\u001b[39;49m\u001b[43mrequest\u001b[49m\u001b[38;5;241;43m.\u001b[39;49m\u001b[43mbody\u001b[49m\u001b[43m,\u001b[49m\n\u001b[1;32m    493\u001b[0m \u001b[43m            \u001b[49m\u001b[43mheaders\u001b[49m\u001b[38;5;241;43m=\u001b[39;49m\u001b[43mrequest\u001b[49m\u001b[38;5;241;43m.\u001b[39;49m\u001b[43mheaders\u001b[49m\u001b[43m,\u001b[49m\n\u001b[1;32m    494\u001b[0m \u001b[43m            \u001b[49m\u001b[43mredirect\u001b[49m\u001b[38;5;241;43m=\u001b[39;49m\u001b[38;5;28;43;01mFalse\u001b[39;49;00m\u001b[43m,\u001b[49m\n\u001b[1;32m    495\u001b[0m \u001b[43m            \u001b[49m\u001b[43massert_same_host\u001b[49m\u001b[38;5;241;43m=\u001b[39;49m\u001b[38;5;28;43;01mFalse\u001b[39;49;00m\u001b[43m,\u001b[49m\n\u001b[1;32m    496\u001b[0m \u001b[43m            \u001b[49m\u001b[43mpreload_content\u001b[49m\u001b[38;5;241;43m=\u001b[39;49m\u001b[38;5;28;43;01mFalse\u001b[39;49;00m\u001b[43m,\u001b[49m\n\u001b[1;32m    497\u001b[0m \u001b[43m            \u001b[49m\u001b[43mdecode_content\u001b[49m\u001b[38;5;241;43m=\u001b[39;49m\u001b[38;5;28;43;01mFalse\u001b[39;49;00m\u001b[43m,\u001b[49m\n\u001b[1;32m    498\u001b[0m \u001b[43m            \u001b[49m\u001b[43mretries\u001b[49m\u001b[38;5;241;43m=\u001b[39;49m\u001b[38;5;28;43mself\u001b[39;49m\u001b[38;5;241;43m.\u001b[39;49m\u001b[43mmax_retries\u001b[49m\u001b[43m,\u001b[49m\n\u001b[1;32m    499\u001b[0m \u001b[43m            \u001b[49m\u001b[43mtimeout\u001b[49m\u001b[38;5;241;43m=\u001b[39;49m\u001b[43mtimeout\u001b[49m\u001b[43m,\u001b[49m\n\u001b[1;32m    500\u001b[0m \u001b[43m        \u001b[49m\u001b[43m)\u001b[49m\n\u001b[1;32m    502\u001b[0m     \u001b[38;5;66;03m# Send the request.\u001b[39;00m\n\u001b[1;32m    503\u001b[0m     \u001b[38;5;28;01melse\u001b[39;00m:\n\u001b[1;32m    504\u001b[0m         \u001b[38;5;28;01mif\u001b[39;00m \u001b[38;5;28mhasattr\u001b[39m(conn, \u001b[38;5;124m\"\u001b[39m\u001b[38;5;124mproxy_pool\u001b[39m\u001b[38;5;124m\"\u001b[39m):\n",
      "File \u001b[0;32m~/miniforge3/lib/python3.9/site-packages/urllib3/connectionpool.py:699\u001b[0m, in \u001b[0;36mHTTPConnectionPool.urlopen\u001b[0;34m(self, method, url, body, headers, retries, redirect, assert_same_host, timeout, pool_timeout, release_conn, chunked, body_pos, **response_kw)\u001b[0m\n\u001b[1;32m    696\u001b[0m     \u001b[38;5;28mself\u001b[39m\u001b[38;5;241m.\u001b[39m_prepare_proxy(conn)\n\u001b[1;32m    698\u001b[0m \u001b[38;5;66;03m# Make the request on the httplib connection object.\u001b[39;00m\n\u001b[0;32m--> 699\u001b[0m httplib_response \u001b[38;5;241m=\u001b[39m \u001b[38;5;28;43mself\u001b[39;49m\u001b[38;5;241;43m.\u001b[39;49m\u001b[43m_make_request\u001b[49m\u001b[43m(\u001b[49m\n\u001b[1;32m    700\u001b[0m \u001b[43m    \u001b[49m\u001b[43mconn\u001b[49m\u001b[43m,\u001b[49m\n\u001b[1;32m    701\u001b[0m \u001b[43m    \u001b[49m\u001b[43mmethod\u001b[49m\u001b[43m,\u001b[49m\n\u001b[1;32m    702\u001b[0m \u001b[43m    \u001b[49m\u001b[43murl\u001b[49m\u001b[43m,\u001b[49m\n\u001b[1;32m    703\u001b[0m \u001b[43m    \u001b[49m\u001b[43mtimeout\u001b[49m\u001b[38;5;241;43m=\u001b[39;49m\u001b[43mtimeout_obj\u001b[49m\u001b[43m,\u001b[49m\n\u001b[1;32m    704\u001b[0m \u001b[43m    \u001b[49m\u001b[43mbody\u001b[49m\u001b[38;5;241;43m=\u001b[39;49m\u001b[43mbody\u001b[49m\u001b[43m,\u001b[49m\n\u001b[1;32m    705\u001b[0m \u001b[43m    \u001b[49m\u001b[43mheaders\u001b[49m\u001b[38;5;241;43m=\u001b[39;49m\u001b[43mheaders\u001b[49m\u001b[43m,\u001b[49m\n\u001b[1;32m    706\u001b[0m \u001b[43m    \u001b[49m\u001b[43mchunked\u001b[49m\u001b[38;5;241;43m=\u001b[39;49m\u001b[43mchunked\u001b[49m\u001b[43m,\u001b[49m\n\u001b[1;32m    707\u001b[0m \u001b[43m\u001b[49m\u001b[43m)\u001b[49m\n\u001b[1;32m    709\u001b[0m \u001b[38;5;66;03m# If we're going to release the connection in ``finally:``, then\u001b[39;00m\n\u001b[1;32m    710\u001b[0m \u001b[38;5;66;03m# the response doesn't need to know about the connection. Otherwise\u001b[39;00m\n\u001b[1;32m    711\u001b[0m \u001b[38;5;66;03m# it will also try to release it and we'll have a double-release\u001b[39;00m\n\u001b[1;32m    712\u001b[0m \u001b[38;5;66;03m# mess.\u001b[39;00m\n\u001b[1;32m    713\u001b[0m response_conn \u001b[38;5;241m=\u001b[39m conn \u001b[38;5;28;01mif\u001b[39;00m \u001b[38;5;129;01mnot\u001b[39;00m release_conn \u001b[38;5;28;01melse\u001b[39;00m \u001b[38;5;28;01mNone\u001b[39;00m\n",
      "File \u001b[0;32m~/miniforge3/lib/python3.9/site-packages/urllib3/connectionpool.py:445\u001b[0m, in \u001b[0;36mHTTPConnectionPool._make_request\u001b[0;34m(self, conn, method, url, timeout, chunked, **httplib_request_kw)\u001b[0m\n\u001b[1;32m    440\u001b[0m             httplib_response \u001b[38;5;241m=\u001b[39m conn\u001b[38;5;241m.\u001b[39mgetresponse()\n\u001b[1;32m    441\u001b[0m         \u001b[38;5;28;01mexcept\u001b[39;00m \u001b[38;5;167;01mBaseException\u001b[39;00m \u001b[38;5;28;01mas\u001b[39;00m e:\n\u001b[1;32m    442\u001b[0m             \u001b[38;5;66;03m# Remove the TypeError from the exception chain in\u001b[39;00m\n\u001b[1;32m    443\u001b[0m             \u001b[38;5;66;03m# Python 3 (including for exceptions like SystemExit).\u001b[39;00m\n\u001b[1;32m    444\u001b[0m             \u001b[38;5;66;03m# Otherwise it looks like a bug in the code.\u001b[39;00m\n\u001b[0;32m--> 445\u001b[0m             \u001b[43msix\u001b[49m\u001b[38;5;241;43m.\u001b[39;49m\u001b[43mraise_from\u001b[49m\u001b[43m(\u001b[49m\u001b[43me\u001b[49m\u001b[43m,\u001b[49m\u001b[43m \u001b[49m\u001b[38;5;28;43;01mNone\u001b[39;49;00m\u001b[43m)\u001b[49m\n\u001b[1;32m    446\u001b[0m \u001b[38;5;28;01mexcept\u001b[39;00m (SocketTimeout, BaseSSLError, SocketError) \u001b[38;5;28;01mas\u001b[39;00m e:\n\u001b[1;32m    447\u001b[0m     \u001b[38;5;28mself\u001b[39m\u001b[38;5;241m.\u001b[39m_raise_timeout(err\u001b[38;5;241m=\u001b[39me, url\u001b[38;5;241m=\u001b[39murl, timeout_value\u001b[38;5;241m=\u001b[39mread_timeout)\n",
      "File \u001b[0;32m<string>:3\u001b[0m, in \u001b[0;36mraise_from\u001b[0;34m(value, from_value)\u001b[0m\n",
      "File \u001b[0;32m~/miniforge3/lib/python3.9/site-packages/urllib3/connectionpool.py:440\u001b[0m, in \u001b[0;36mHTTPConnectionPool._make_request\u001b[0;34m(self, conn, method, url, timeout, chunked, **httplib_request_kw)\u001b[0m\n\u001b[1;32m    437\u001b[0m \u001b[38;5;28;01mexcept\u001b[39;00m \u001b[38;5;167;01mTypeError\u001b[39;00m:\n\u001b[1;32m    438\u001b[0m     \u001b[38;5;66;03m# Python 3\u001b[39;00m\n\u001b[1;32m    439\u001b[0m     \u001b[38;5;28;01mtry\u001b[39;00m:\n\u001b[0;32m--> 440\u001b[0m         httplib_response \u001b[38;5;241m=\u001b[39m \u001b[43mconn\u001b[49m\u001b[38;5;241;43m.\u001b[39;49m\u001b[43mgetresponse\u001b[49m\u001b[43m(\u001b[49m\u001b[43m)\u001b[49m\n\u001b[1;32m    441\u001b[0m     \u001b[38;5;28;01mexcept\u001b[39;00m \u001b[38;5;167;01mBaseException\u001b[39;00m \u001b[38;5;28;01mas\u001b[39;00m e:\n\u001b[1;32m    442\u001b[0m         \u001b[38;5;66;03m# Remove the TypeError from the exception chain in\u001b[39;00m\n\u001b[1;32m    443\u001b[0m         \u001b[38;5;66;03m# Python 3 (including for exceptions like SystemExit).\u001b[39;00m\n\u001b[1;32m    444\u001b[0m         \u001b[38;5;66;03m# Otherwise it looks like a bug in the code.\u001b[39;00m\n\u001b[1;32m    445\u001b[0m         six\u001b[38;5;241m.\u001b[39mraise_from(e, \u001b[38;5;28;01mNone\u001b[39;00m)\n",
      "File \u001b[0;32m~/miniforge3/lib/python3.9/http/client.py:1371\u001b[0m, in \u001b[0;36mHTTPConnection.getresponse\u001b[0;34m(self)\u001b[0m\n\u001b[1;32m   1369\u001b[0m \u001b[38;5;28;01mtry\u001b[39;00m:\n\u001b[1;32m   1370\u001b[0m     \u001b[38;5;28;01mtry\u001b[39;00m:\n\u001b[0;32m-> 1371\u001b[0m         \u001b[43mresponse\u001b[49m\u001b[38;5;241;43m.\u001b[39;49m\u001b[43mbegin\u001b[49m\u001b[43m(\u001b[49m\u001b[43m)\u001b[49m\n\u001b[1;32m   1372\u001b[0m     \u001b[38;5;28;01mexcept\u001b[39;00m \u001b[38;5;167;01mConnectionError\u001b[39;00m:\n\u001b[1;32m   1373\u001b[0m         \u001b[38;5;28mself\u001b[39m\u001b[38;5;241m.\u001b[39mclose()\n",
      "File \u001b[0;32m~/miniforge3/lib/python3.9/http/client.py:319\u001b[0m, in \u001b[0;36mHTTPResponse.begin\u001b[0;34m(self)\u001b[0m\n\u001b[1;32m    317\u001b[0m \u001b[38;5;66;03m# read until we get a non-100 response\u001b[39;00m\n\u001b[1;32m    318\u001b[0m \u001b[38;5;28;01mwhile\u001b[39;00m \u001b[38;5;28;01mTrue\u001b[39;00m:\n\u001b[0;32m--> 319\u001b[0m     version, status, reason \u001b[38;5;241m=\u001b[39m \u001b[38;5;28;43mself\u001b[39;49m\u001b[38;5;241;43m.\u001b[39;49m\u001b[43m_read_status\u001b[49m\u001b[43m(\u001b[49m\u001b[43m)\u001b[49m\n\u001b[1;32m    320\u001b[0m     \u001b[38;5;28;01mif\u001b[39;00m status \u001b[38;5;241m!=\u001b[39m CONTINUE:\n\u001b[1;32m    321\u001b[0m         \u001b[38;5;28;01mbreak\u001b[39;00m\n",
      "File \u001b[0;32m~/miniforge3/lib/python3.9/http/client.py:280\u001b[0m, in \u001b[0;36mHTTPResponse._read_status\u001b[0;34m(self)\u001b[0m\n\u001b[1;32m    279\u001b[0m \u001b[38;5;28;01mdef\u001b[39;00m \u001b[38;5;21m_read_status\u001b[39m(\u001b[38;5;28mself\u001b[39m):\n\u001b[0;32m--> 280\u001b[0m     line \u001b[38;5;241m=\u001b[39m \u001b[38;5;28mstr\u001b[39m(\u001b[38;5;28;43mself\u001b[39;49m\u001b[38;5;241;43m.\u001b[39;49m\u001b[43mfp\u001b[49m\u001b[38;5;241;43m.\u001b[39;49m\u001b[43mreadline\u001b[49m\u001b[43m(\u001b[49m\u001b[43m_MAXLINE\u001b[49m\u001b[43m \u001b[49m\u001b[38;5;241;43m+\u001b[39;49m\u001b[43m \u001b[49m\u001b[38;5;241;43m1\u001b[39;49m\u001b[43m)\u001b[49m, \u001b[38;5;124m\"\u001b[39m\u001b[38;5;124miso-8859-1\u001b[39m\u001b[38;5;124m\"\u001b[39m)\n\u001b[1;32m    281\u001b[0m     \u001b[38;5;28;01mif\u001b[39;00m \u001b[38;5;28mlen\u001b[39m(line) \u001b[38;5;241m>\u001b[39m _MAXLINE:\n\u001b[1;32m    282\u001b[0m         \u001b[38;5;28;01mraise\u001b[39;00m LineTooLong(\u001b[38;5;124m\"\u001b[39m\u001b[38;5;124mstatus line\u001b[39m\u001b[38;5;124m\"\u001b[39m)\n",
      "File \u001b[0;32m~/miniforge3/lib/python3.9/socket.py:704\u001b[0m, in \u001b[0;36mSocketIO.readinto\u001b[0;34m(self, b)\u001b[0m\n\u001b[1;32m    702\u001b[0m \u001b[38;5;28;01mwhile\u001b[39;00m \u001b[38;5;28;01mTrue\u001b[39;00m:\n\u001b[1;32m    703\u001b[0m     \u001b[38;5;28;01mtry\u001b[39;00m:\n\u001b[0;32m--> 704\u001b[0m         \u001b[38;5;28;01mreturn\u001b[39;00m \u001b[38;5;28;43mself\u001b[39;49m\u001b[38;5;241;43m.\u001b[39;49m\u001b[43m_sock\u001b[49m\u001b[38;5;241;43m.\u001b[39;49m\u001b[43mrecv_into\u001b[49m\u001b[43m(\u001b[49m\u001b[43mb\u001b[49m\u001b[43m)\u001b[49m\n\u001b[1;32m    705\u001b[0m     \u001b[38;5;28;01mexcept\u001b[39;00m timeout:\n\u001b[1;32m    706\u001b[0m         \u001b[38;5;28mself\u001b[39m\u001b[38;5;241m.\u001b[39m_timeout_occurred \u001b[38;5;241m=\u001b[39m \u001b[38;5;28;01mTrue\u001b[39;00m\n",
      "File \u001b[0;32m~/miniforge3/lib/python3.9/ssl.py:1241\u001b[0m, in \u001b[0;36mSSLSocket.recv_into\u001b[0;34m(self, buffer, nbytes, flags)\u001b[0m\n\u001b[1;32m   1237\u001b[0m     \u001b[38;5;28;01mif\u001b[39;00m flags \u001b[38;5;241m!=\u001b[39m \u001b[38;5;241m0\u001b[39m:\n\u001b[1;32m   1238\u001b[0m         \u001b[38;5;28;01mraise\u001b[39;00m \u001b[38;5;167;01mValueError\u001b[39;00m(\n\u001b[1;32m   1239\u001b[0m           \u001b[38;5;124m\"\u001b[39m\u001b[38;5;124mnon-zero flags not allowed in calls to recv_into() on \u001b[39m\u001b[38;5;132;01m%s\u001b[39;00m\u001b[38;5;124m\"\u001b[39m \u001b[38;5;241m%\u001b[39m\n\u001b[1;32m   1240\u001b[0m           \u001b[38;5;28mself\u001b[39m\u001b[38;5;241m.\u001b[39m\u001b[38;5;18m__class__\u001b[39m)\n\u001b[0;32m-> 1241\u001b[0m     \u001b[38;5;28;01mreturn\u001b[39;00m \u001b[38;5;28;43mself\u001b[39;49m\u001b[38;5;241;43m.\u001b[39;49m\u001b[43mread\u001b[49m\u001b[43m(\u001b[49m\u001b[43mnbytes\u001b[49m\u001b[43m,\u001b[49m\u001b[43m \u001b[49m\u001b[43mbuffer\u001b[49m\u001b[43m)\u001b[49m\n\u001b[1;32m   1242\u001b[0m \u001b[38;5;28;01melse\u001b[39;00m:\n\u001b[1;32m   1243\u001b[0m     \u001b[38;5;28;01mreturn\u001b[39;00m \u001b[38;5;28msuper\u001b[39m()\u001b[38;5;241m.\u001b[39mrecv_into(buffer, nbytes, flags)\n",
      "File \u001b[0;32m~/miniforge3/lib/python3.9/ssl.py:1099\u001b[0m, in \u001b[0;36mSSLSocket.read\u001b[0;34m(self, len, buffer)\u001b[0m\n\u001b[1;32m   1097\u001b[0m \u001b[38;5;28;01mtry\u001b[39;00m:\n\u001b[1;32m   1098\u001b[0m     \u001b[38;5;28;01mif\u001b[39;00m buffer \u001b[38;5;129;01mis\u001b[39;00m \u001b[38;5;129;01mnot\u001b[39;00m \u001b[38;5;28;01mNone\u001b[39;00m:\n\u001b[0;32m-> 1099\u001b[0m         \u001b[38;5;28;01mreturn\u001b[39;00m \u001b[38;5;28;43mself\u001b[39;49m\u001b[38;5;241;43m.\u001b[39;49m\u001b[43m_sslobj\u001b[49m\u001b[38;5;241;43m.\u001b[39;49m\u001b[43mread\u001b[49m\u001b[43m(\u001b[49m\u001b[38;5;28;43mlen\u001b[39;49m\u001b[43m,\u001b[49m\u001b[43m \u001b[49m\u001b[43mbuffer\u001b[49m\u001b[43m)\u001b[49m\n\u001b[1;32m   1100\u001b[0m     \u001b[38;5;28;01melse\u001b[39;00m:\n\u001b[1;32m   1101\u001b[0m         \u001b[38;5;28;01mreturn\u001b[39;00m \u001b[38;5;28mself\u001b[39m\u001b[38;5;241m.\u001b[39m_sslobj\u001b[38;5;241m.\u001b[39mread(\u001b[38;5;28mlen\u001b[39m)\n",
      "\u001b[0;31mKeyboardInterrupt\u001b[0m: "
     ]
    }
   ],
   "source": [
    "replies=[]\n",
    "name = [\"@bts_bighit\", \"@JYPETWICE\", \"@weareoneEXO\", \"@ygofficialblink\"]\n",
    "\n",
    "tweet_id = id\n",
    "for tweet in tqdm(tweepy.Cursor(api.search_tweets,q='to:'+name, result_type='recent').items(10000)):\n",
    "    replies.append(tweet)\n",
    "    \n",
    "# p(x | y), p(y | x)"
   ]
  },
  {
   "cell_type": "code",
   "execution_count": 148,
   "id": "e842e1c4",
   "metadata": {},
   "outputs": [
    {
     "data": {
      "application/json": {
       "ascii": false,
       "bar_format": null,
       "colour": null,
       "elapsed": 0.020746946334838867,
       "initial": 0,
       "n": 0,
       "ncols": null,
       "nrows": 24,
       "postfix": null,
       "prefix": "",
       "rate": null,
       "total": null,
       "unit": "it",
       "unit_divisor": 1000,
       "unit_scale": false
      },
      "application/vnd.jupyter.widget-view+json": {
       "model_id": "63e1d090f7734f7a9a9204baef24c888",
       "version_major": 2,
       "version_minor": 0
      },
      "text/plain": [
       "0it [00:00, ?it/s]"
      ]
     },
     "metadata": {},
     "output_type": "display_data"
    },
    {
     "name": "stderr",
     "output_type": "stream",
     "text": [
      "Rate limit reached. Sleeping for: 330\n",
      "Rate limit reached. Sleeping for: 767\n"
     ]
    },
    {
     "data": {
      "application/json": {
       "ascii": false,
       "bar_format": null,
       "colour": null,
       "elapsed": 0.01921391487121582,
       "initial": 0,
       "n": 0,
       "ncols": null,
       "nrows": 24,
       "postfix": null,
       "prefix": "",
       "rate": null,
       "total": null,
       "unit": "it",
       "unit_divisor": 1000,
       "unit_scale": false
      },
      "application/vnd.jupyter.widget-view+json": {
       "model_id": "a4247d6370cd4bd09d58a19e3501ab00",
       "version_major": 2,
       "version_minor": 0
      },
      "text/plain": [
       "0it [00:00, ?it/s]"
      ]
     },
     "metadata": {},
     "output_type": "display_data"
    },
    {
     "name": "stderr",
     "output_type": "stream",
     "text": [
      "Rate limit reached. Sleeping for: 769\n",
      "Rate limit reached. Sleeping for: 764\n"
     ]
    },
    {
     "data": {
      "application/json": {
       "ascii": false,
       "bar_format": null,
       "colour": null,
       "elapsed": 0.0184481143951416,
       "initial": 0,
       "n": 0,
       "ncols": null,
       "nrows": 24,
       "postfix": null,
       "prefix": "",
       "rate": null,
       "total": null,
       "unit": "it",
       "unit_divisor": 1000,
       "unit_scale": false
      },
      "application/vnd.jupyter.widget-view+json": {
       "model_id": "9a6b67bf94b548c0b498c5c0e14126ca",
       "version_major": 2,
       "version_minor": 0
      },
      "text/plain": [
       "0it [00:00, ?it/s]"
      ]
     },
     "metadata": {},
     "output_type": "display_data"
    },
    {
     "name": "stderr",
     "output_type": "stream",
     "text": [
      "Rate limit reached. Sleeping for: 767\n",
      "Rate limit reached. Sleeping for: 765\n"
     ]
    },
    {
     "data": {
      "application/json": {
       "ascii": false,
       "bar_format": null,
       "colour": null,
       "elapsed": 0.021768808364868164,
       "initial": 0,
       "n": 0,
       "ncols": null,
       "nrows": 24,
       "postfix": null,
       "prefix": "",
       "rate": null,
       "total": null,
       "unit": "it",
       "unit_divisor": 1000,
       "unit_scale": false
      },
      "application/vnd.jupyter.widget-view+json": {
       "model_id": "0cc4b53c4d7f4d2da0b6838cacb73231",
       "version_major": 2,
       "version_minor": 0
      },
      "text/plain": [
       "0it [00:00, ?it/s]"
      ]
     },
     "metadata": {},
     "output_type": "display_data"
    },
    {
     "name": "stderr",
     "output_type": "stream",
     "text": [
      "Rate limit reached. Sleeping for: 766\n",
      "Rate limit reached. Sleeping for: 772\n"
     ]
    }
   ],
   "source": [
    "# User-level Analyasis\n",
    "\n",
    "# Recent 10,000.\n",
    "# Anlalyze the word frequency\n",
    "# Stopword 빼고, 괜찮은 애들만 모아서 이 post들이 담고 있는 media analysis?\n",
    "names = [\"@bts_bighit\", \"@JYPETWICE\", \"@weareoneEXO\", \"@ygofficialblink\"]\n",
    "all_replies=[]\n",
    "\n",
    "for name in names:\n",
    "    temp = []\n",
    "    for tweet in tqdm(tweepy.Cursor(api.search_tweets,q=f'to: {name} lang:en', result_type='recent').items(5000)):\n",
    "        temp.append(tweet)\n",
    "    all_replies.append(temp)"
   ]
  },
  {
   "cell_type": "code",
   "execution_count": 151,
   "id": "3c542e91",
   "metadata": {},
   "outputs": [],
   "source": [
    "import pickle\n",
    "\n",
    "# with open(file='all_replies.pickle', mode='wb') as f:\n",
    "#     pickle.dump(all_replies, f)\n",
    "\n",
    "all_replies_text = [x.text for y in all_replies for x in y]\n"
   ]
  },
  {
   "cell_type": "code",
   "execution_count": 9,
   "id": "6cc11a85",
   "metadata": {},
   "outputs": [],
   "source": [
    "# READ ALL REPLIES\n",
    "import pickle\n",
    "\n",
    "with open(file='all_replies.pickle', mode='rb') as f:\n",
    "    all_replies = pickle.load(f)\n",
    "\n",
    "all_replies_text = [x.text for y in all_replies for x in y]"
   ]
  },
  {
   "cell_type": "code",
   "execution_count": 156,
   "id": "054285b7",
   "metadata": {},
   "outputs": [
    {
     "name": "stdout",
     "output_type": "stream",
     "text": [
      "Collecting nltk\n",
      "  Downloading nltk-3.7-py3-none-any.whl (1.5 MB)\n",
      "\u001b[2K     \u001b[90m━━━━━━━━━━━━━━━━━━━━━━━━━━━━━━━━━━━━━━━━\u001b[0m \u001b[32m1.5/1.5 MB\u001b[0m \u001b[31m2.3 MB/s\u001b[0m eta \u001b[36m0:00:00\u001b[0m00:01\u001b[0m00:01\u001b[0m\n",
      "\u001b[?25hRequirement already satisfied: click in /Users/hwanghyeonbin/miniforge3/lib/python3.9/site-packages (from nltk) (8.1.3)\n",
      "Requirement already satisfied: joblib in /Users/hwanghyeonbin/miniforge3/lib/python3.9/site-packages (from nltk) (1.1.0)\n",
      "Requirement already satisfied: tqdm in /Users/hwanghyeonbin/miniforge3/lib/python3.9/site-packages (from nltk) (4.62.3)\n",
      "Requirement already satisfied: regex>=2021.8.3 in /Users/hwanghyeonbin/miniforge3/lib/python3.9/site-packages (from nltk) (2022.7.25)\n",
      "Installing collected packages: nltk\n",
      "Successfully installed nltk-3.7\n",
      "\n",
      "\u001b[1m[\u001b[0m\u001b[34;49mnotice\u001b[0m\u001b[1;39;49m]\u001b[0m\u001b[39;49m A new release of pip available: \u001b[0m\u001b[31;49m22.2.2\u001b[0m\u001b[39;49m -> \u001b[0m\u001b[32;49m22.3.1\u001b[0m\n",
      "\u001b[1m[\u001b[0m\u001b[34;49mnotice\u001b[0m\u001b[1;39;49m]\u001b[0m\u001b[39;49m To update, run: \u001b[0m\u001b[32;49mpip install --upgrade pip\u001b[0m\n"
     ]
    }
   ],
   "source": [
    "!pip install nltk"
   ]
  },
  {
   "cell_type": "code",
   "execution_count": 12,
   "id": "b31a43cf",
   "metadata": {
    "scrolled": true
   },
   "outputs": [],
   "source": [
    "from nltk.stem import WordNetLemmatizer\n",
    "import nltk\n",
    "# nltk.download('wordnet')\n",
    "# nltk.download('omw-1.4')\n",
    "# nltk.download('stopwords')"
   ]
  },
  {
   "cell_type": "code",
   "execution_count": 13,
   "id": "52fb688f",
   "metadata": {},
   "outputs": [],
   "source": [
    "from nltk.tokenize import word_tokenize\n",
    "from nltk.corpus import stopwords\n",
    "\n",
    "lemmatizer = WordNetLemmatizer()\n",
    "stop_words_list = stopwords.words('english')\n",
    "custom_stopwords = ['http', 'unknwnstatus']\n",
    "\n",
    "def clean_text(sent):\n",
    "    words = word_tokenize(sent)\n",
    "    final_list = [lemmatizer.lemmatize(word) for word in words]\n",
    "    return [x.lower() for x in final_list if x not in stop_words_list  if len(x) > 3 and x.isalpha() and x.lower() not in custom_stopwords]\n",
    "    "
   ]
  },
  {
   "cell_type": "code",
   "execution_count": 14,
   "id": "a392caba",
   "metadata": {},
   "outputs": [],
   "source": [
    "# All Things Together\n",
    "all_comments = [ [] for _ in range(4)]\n",
    "\n",
    "\n",
    "for idx, replies in enumerate(all_replies):\n",
    "    all_text = [x.text for x in replies]\n",
    "    \n",
    "    for comment in all_text:\n",
    "        all_comments[idx].extend(clean_text(comment))"
   ]
  },
  {
   "cell_type": "code",
   "execution_count": 15,
   "id": "68407b96",
   "metadata": {
    "scrolled": true
   },
   "outputs": [],
   "source": [
    "import pandas as pd\n",
    "import matplotlib.pyplot as plt\n",
    "from wordcloud import WordCloud"
   ]
  },
  {
   "cell_type": "code",
   "execution_count": 16,
   "id": "2c04da5f",
   "metadata": {},
   "outputs": [],
   "source": [
    "from collections import Counter\n",
    "import matplotlib.pyplot as plt\n",
    "\n",
    "tags = Counter(all_comments[3]).most_common(50)\n",
    "wc = WordCloud(background_color=\"white\", max_font_size=50)\n",
    "cloud = wc.generate_from_frequencies(dict(tags))"
   ]
  },
  {
   "cell_type": "code",
   "execution_count": 17,
   "id": "f16eb05b",
   "metadata": {},
   "outputs": [
    {
     "data": {
      "image/png": "[encoded data removed]",
      "text/plain": [
       "<Figure size 432x288 with 1 Axes>"
      ]
     },
     "metadata": {
      "needs_background": "light"
     },
     "output_type": "display_data"
    }
   ],
   "source": [
    "plt.imshow(cloud, interpolation='bilinear')\n",
    "plt.axis(\"off\")\n",
    "plt.show()"
   ]
  },
  {
   "cell_type": "code",
   "execution_count": 3,
   "id": "a6d65ca4",
   "metadata": {},
   "outputs": [],
   "source": [
    "# !wget https://raw.githubusercontent.com/shekhargulati/sentiment-analysis-python/master/opinion-lexicon-English/positive-words.txt\n",
    "s = open('positive-words.txt', 'r').readlines()[36:]\n",
    "positive_words = [x.strip() for x in s]"
   ]
  },
  {
   "cell_type": "code",
   "execution_count": 114,
   "id": "8222c74d",
   "metadata": {},
   "outputs": [],
   "source": [
    "## BTS WORD FREQUENCY\n",
    "is_positive_words = {k:v for k,v in dict(Counter(all_comments[1])).items() if k in positive_words}"
   ]
  },
  {
   "cell_type": "code",
   "execution_count": 115,
   "id": "912e9f18",
   "metadata": {},
   "outputs": [
    {
     "data": {
      "text/plain": [
       "[('safe', 154),\n",
       " ('happy', 148),\n",
       " ('good', 126),\n",
       " ('healthy', 119),\n",
       " ('best', 82),\n",
       " ('thank', 70),\n",
       " ('great', 67),\n",
       " ('love', 65),\n",
       " ('winner', 57),\n",
       " ('better', 50),\n",
       " ('happiness', 49),\n",
       " ('pretty', 49),\n",
       " ('well', 25),\n",
       " ('beautiful', 19),\n",
       " ('amazing', 19),\n",
       " ('smile', 19),\n",
       " ('right', 18),\n",
       " ('enjoy', 15),\n",
       " ('kindly', 13),\n",
       " ('precious', 13),\n",
       " ('like', 11),\n",
       " ('loved', 10),\n",
       " ('glad', 10),\n",
       " ('admire', 10),\n",
       " ('inspire', 10),\n",
       " ('inspiration', 10),\n",
       " ('dedicated', 9),\n",
       " ('grateful', 8),\n",
       " ('peace', 7),\n",
       " ('loving', 7),\n",
       " ('congratulations', 6),\n",
       " ('fancy', 5),\n",
       " ('calm', 4),\n",
       " ('angel', 4),\n",
       " ('encouraging', 4),\n",
       " ('winning', 4),\n",
       " ('appreciates', 3),\n",
       " ('gold', 3),\n",
       " ('awards', 3),\n",
       " ('proud', 2),\n",
       " ('talent', 2),\n",
       " ('enough', 2),\n",
       " ('achievement', 2),\n",
       " ('warmth', 1),\n",
       " ('supporting', 1),\n",
       " ('congratulation', 1),\n",
       " ('surpass', 1),\n",
       " ('free', 1),\n",
       " ('favor', 1),\n",
       " ('favorite', 1),\n",
       " ('loyal', 1),\n",
       " ('support', 1),\n",
       " ('respect', 1),\n",
       " ('greatest', 1),\n",
       " ('work', 1),\n",
       " ('award', 1),\n",
       " ('powerful', 1),\n",
       " ('dominated', 1),\n",
       " ('successfully', 1),\n",
       " ('willing', 1),\n",
       " ('merry', 1)]"
      ]
     },
     "execution_count": 115,
     "metadata": {},
     "output_type": "execute_result"
    }
   ],
   "source": [
    "sorted([(k,v) for k,v in is_positive_words.items()], key=lambda x: -1*x[1])"
   ]
  },
  {
   "cell_type": "code",
   "execution_count": 125,
   "id": "a23d0809",
   "metadata": {},
   "outputs": [],
   "source": [
    "c = Counter(all_comments[1]).most_common(12) + [(x, is_positive_words[x]) for x in ['love', 'pretty', 'beautiful', 'amazing',]]\n"
   ]
  },
  {
   "cell_type": "code",
   "execution_count": 135,
   "id": "269627b1",
   "metadata": {
    "scrolled": true
   },
   "outputs": [],
   "source": [
    "c = [x for x in c if 'twice' not in x[0] and x[0] not in ['subjectkpop', '트와이스']]"
   ]
  },
  {
   "cell_type": "code",
   "execution_count": 137,
   "id": "5f88765d",
   "metadata": {
    "scrolled": false
   },
   "outputs": [
    {
     "data": {
      "image/png": "[encoded data removed]",
      "text/plain": [
       "<Figure size 1440x576 with 1 Axes>"
      ]
     },
     "metadata": {
      "needs_background": "light"
     },
     "output_type": "display_data"
    }
   ],
   "source": [
    "import collections\n",
    "import matplotlib.pyplot as plt\n",
    "\n",
    "plt.figure(figsize=(20,8))\n",
    "plt.xlabel(\"Words\")\n",
    "plt.ylabel(\"Frequency\")\n",
    "\n",
    "barlist = plt.bar([x[0] for x in c], [x[1] for x in c])\n",
    "\n",
    "\n",
    "for idx in range(len(barlist)):\n",
    "    barlist[idx].set_color('lightsteelblue')\n",
    "\n",
    "    \n",
    "for idx in [8]:\n",
    "    barlist[idx].set_color('salmon')\n",
    "    \n",
    "for idx in [10, 11, 9]:\n",
    "    barlist[idx].set_color('red')"
   ]
  },
  {
   "cell_type": "code",
   "execution_count": 132,
   "id": "f2a1fbf9",
   "metadata": {},
   "outputs": [
    {
     "ename": "NameError",
     "evalue": "name 'reply' is not defined",
     "output_type": "error",
     "traceback": [
      "\u001b[0;31m---------------------------------------------------------------------------\u001b[0m",
      "\u001b[0;31mNameError\u001b[0m                                 Traceback (most recent call last)",
      "Input \u001b[0;32mIn [132]\u001b[0m, in \u001b[0;36m<cell line: 1>\u001b[0;34m()\u001b[0m\n\u001b[0;32m----> 1\u001b[0m \u001b[38;5;28mset\u001b[39m([x\u001b[38;5;241m.\u001b[39mtext \u001b[38;5;28;01mfor\u001b[39;00m x \u001b[38;5;129;01min\u001b[39;00m \u001b[43mreply\u001b[49m])\n",
      "\u001b[0;31mNameError\u001b[0m: name 'reply' is not defined"
     ]
    }
   ],
   "source": [
    "set([x.text for x in reply])"
   ]
  },
  {
   "cell_type": "code",
   "execution_count": 372,
   "id": "911ff01e",
   "metadata": {
    "scrolled": true
   },
   "outputs": [
    {
     "name": "stdout",
     "output_type": "stream",
     "text": [
      "{'hashtags': [], 'symbols': [], 'user_mentions': [{'screen_name': 'unknwnstatus', 'name': '𝗟❍❍𝗰𝗵', 'id': 1147909784, 'id_str': '1147909784', 'indices': [3, 16]}, {'screen_name': 'bts_bighit', 'name': 'BTS_official', 'id': 1409798257, 'id_str': '1409798257', 'indices': [22, 33]}], 'urls': []}\n",
      "\n",
      "{'hashtags': [], 'symbols': [], 'user_mentions': [{'screen_name': 'bts_bighit', 'name': 'BTS_official', 'id': 1409798257, 'id_str': '1409798257', 'indices': [0, 11]}], 'urls': []}\n",
      "\n",
      "{'hashtags': [{'text': 'RM', 'indices': [48, 51]}, {'text': 'INDIGO', 'indices': [99, 106]}], 'symbols': [], 'user_mentions': [{'screen_name': 'amazonmusic', 'name': 'Amazon Music', 'id': 14740219, 'id_str': '14740219', 'indices': [3, 15]}, {'screen_name': 'bts_bighit', 'name': 'BTS_official', 'id': 1409798257, 'id_str': '1409798257', 'indices': [86, 97]}], 'urls': []}\n",
      "\n",
      "{'hashtags': [], 'symbols': [], 'user_mentions': [{'screen_name': 'SpotifyKpop', 'name': 'Spotify ❤️ K-Pop', 'id': 978459450871697408, 'id_str': '978459450871697408', 'indices': [0, 12]}, {'screen_name': 'bts_bighit', 'name': 'BTS_official', 'id': 1409798257, 'id_str': '1409798257', 'indices': [13, 24]}], 'urls': [{'url': 'https://t.co/vg0L2WGJon', 'expanded_url': 'https://twitter.com/i/web/status/1598653855516041217', 'display_url': 'twitter.com/i/web/status/1…', 'indices': [117, 140]}]}\n",
      "\n",
      "{'hashtags': [{'text': 'RM', 'indices': [48, 51]}, {'text': 'INDIGO', 'indices': [99, 106]}], 'symbols': [], 'user_mentions': [{'screen_name': 'amazonmusic', 'name': 'Amazon Music', 'id': 14740219, 'id_str': '14740219', 'indices': [3, 15]}, {'screen_name': 'bts_bighit', 'name': 'BTS_official', 'id': 1409798257, 'id_str': '1409798257', 'indices': [86, 97]}], 'urls': []}\n",
      "\n",
      "{'hashtags': [{'text': 'RM', 'indices': [48, 51]}, {'text': 'INDIGO', 'indices': [99, 106]}], 'symbols': [], 'user_mentions': [{'screen_name': 'amazonmusic', 'name': 'Amazon Music', 'id': 14740219, 'id_str': '14740219', 'indices': [3, 15]}, {'screen_name': 'bts_bighit', 'name': 'BTS_official', 'id': 1409798257, 'id_str': '1409798257', 'indices': [86, 97]}], 'urls': []}\n",
      "\n",
      "{'hashtags': [], 'symbols': [], 'user_mentions': [{'screen_name': 'SpotifyKpop', 'name': 'Spotify ❤️ K-Pop', 'id': 978459450871697408, 'id_str': '978459450871697408', 'indices': [0, 12]}, {'screen_name': 'bts_bighit', 'name': 'BTS_official', 'id': 1409798257, 'id_str': '1409798257', 'indices': [13, 24]}], 'urls': [{'url': 'https://t.co/g453Lx47hw', 'expanded_url': 'https://twitter.com/i/web/status/1598653821374210049', 'display_url': 'twitter.com/i/web/status/1…', 'indices': [117, 140]}]}\n",
      "\n",
      "{'hashtags': [{'text': 'RM', 'indices': [48, 51]}, {'text': 'INDIGO', 'indices': [99, 106]}], 'symbols': [], 'user_mentions': [{'screen_name': 'amazonmusic', 'name': 'Amazon Music', 'id': 14740219, 'id_str': '14740219', 'indices': [3, 15]}, {'screen_name': 'bts_bighit', 'name': 'BTS_official', 'id': 1409798257, 'id_str': '1409798257', 'indices': [86, 97]}], 'urls': []}\n",
      "\n",
      "{'hashtags': [{'text': 'RM', 'indices': [48, 51]}, {'text': 'INDIGO', 'indices': [99, 106]}], 'symbols': [], 'user_mentions': [{'screen_name': 'amazonmusic', 'name': 'Amazon Music', 'id': 14740219, 'id_str': '14740219', 'indices': [3, 15]}, {'screen_name': 'bts_bighit', 'name': 'BTS_official', 'id': 1409798257, 'id_str': '1409798257', 'indices': [86, 97]}], 'urls': []}\n",
      "\n",
      "{'hashtags': [], 'symbols': [], 'user_mentions': [{'screen_name': 'PJM_vocal', 'name': 'JIMIN VOCAL | threads & analyses', 'id': 1284163802527707142, 'id_str': '1284163802527707142', 'indices': [3, 13]}, {'screen_name': 'bts_bighit', 'name': 'BTS_official', 'id': 1409798257, 'id_str': '1409798257', 'indices': [15, 26]}], 'urls': []}\n",
      "\n",
      "{'hashtags': [], 'symbols': [], 'user_mentions': [{'screen_name': 'bts_bighit', 'name': 'BTS_official', 'id': 1409798257, 'id_str': '1409798257', 'indices': [7, 18]}], 'urls': [{'url': 'https://t.co/S2LskXfpYy', 'expanded_url': 'https://twitter.com/i/web/status/1598653788679569408', 'display_url': 'twitter.com/i/web/status/1…', 'indices': [105, 128]}]}\n",
      "\n",
      "{'hashtags': [], 'symbols': [], 'user_mentions': [{'screen_name': 'bts_bighit', 'name': 'BTS_official', 'id': 1409798257, 'id_str': '1409798257', 'indices': [7, 18]}], 'urls': [{'url': 'https://t.co/hhFnAtPqkd', 'expanded_url': 'https://twitter.com/i/web/status/1598653786968686595', 'display_url': 'twitter.com/i/web/status/1…', 'indices': [105, 128]}]}\n",
      "\n",
      "{'hashtags': [], 'symbols': [], 'user_mentions': [{'screen_name': 'LetsBeGoodHuman', 'name': 'JRJOT7 💙👨\\u200d🚀', 'id': 1315015672250986502, 'id_str': '1315015672250986502', 'indices': [3, 19]}, {'screen_name': 'bts_bighit', 'name': 'BTS_official', 'id': 1409798257, 'id_str': '1409798257', 'indices': [21, 32]}], 'urls': []}\n",
      "\n",
      "{'hashtags': [{'text': 'RM', 'indices': [48, 51]}, {'text': 'INDIGO', 'indices': [99, 106]}], 'symbols': [], 'user_mentions': [{'screen_name': 'amazonmusic', 'name': 'Amazon Music', 'id': 14740219, 'id_str': '14740219', 'indices': [3, 15]}, {'screen_name': 'bts_bighit', 'name': 'BTS_official', 'id': 1409798257, 'id_str': '1409798257', 'indices': [86, 97]}], 'urls': []}\n",
      "\n",
      "{'hashtags': [], 'symbols': [], 'user_mentions': [{'screen_name': 'bts_bighit', 'name': 'BTS_official', 'id': 1409798257, 'id_str': '1409798257', 'indices': [0, 11]}], 'urls': [{'url': 'https://t.co/J5wxzSoYNi', 'expanded_url': 'https://twitter.com/i/web/status/1598653731159015428', 'display_url': 'twitter.com/i/web/status/1…', 'indices': [117, 140]}]}\n",
      "\n",
      "{'hashtags': [{'text': 'RM', 'indices': [48, 51]}, {'text': 'INDIGO', 'indices': [99, 106]}], 'symbols': [], 'user_mentions': [{'screen_name': 'amazonmusic', 'name': 'Amazon Music', 'id': 14740219, 'id_str': '14740219', 'indices': [3, 15]}, {'screen_name': 'bts_bighit', 'name': 'BTS_official', 'id': 1409798257, 'id_str': '1409798257', 'indices': [86, 97]}], 'urls': []}\n",
      "\n",
      "{'hashtags': [{'text': 'indigo', 'indices': [119, 126]}], 'symbols': [], 'user_mentions': [{'screen_name': 'holyannamoly', 'name': 'Beth its me, Anna⁷', 'id': 2300196006, 'id_str': '2300196006', 'indices': [3, 16]}], 'urls': []}\n",
      "\n",
      "{'hashtags': [{'text': 'RM', 'indices': [48, 51]}, {'text': 'INDIGO', 'indices': [99, 106]}], 'symbols': [], 'user_mentions': [{'screen_name': 'amazonmusic', 'name': 'Amazon Music', 'id': 14740219, 'id_str': '14740219', 'indices': [3, 15]}, {'screen_name': 'bts_bighit', 'name': 'BTS_official', 'id': 1409798257, 'id_str': '1409798257', 'indices': [86, 97]}], 'urls': []}\n",
      "\n",
      "{'hashtags': [], 'symbols': [], 'user_mentions': [], 'urls': [{'url': 'https://t.co/BF8HiAGKiq', 'expanded_url': 'https://twitter.com/i/web/status/1598653696954757122', 'display_url': 'twitter.com/i/web/status/1…', 'indices': [117, 140]}]}\n",
      "\n",
      "{'hashtags': [], 'symbols': [], 'user_mentions': [{'screen_name': 'POTUS', 'name': 'President Biden', 'id': 1349149096909668363, 'id_str': '1349149096909668363', 'indices': [3, 9]}, {'screen_name': 'bts_bighit', 'name': 'BTS_official', 'id': 1409798257, 'id_str': '1409798257', 'indices': [71, 82]}], 'urls': []}\n",
      "\n",
      "{'hashtags': [{'text': 'RM', 'indices': [48, 51]}, {'text': 'INDIGO', 'indices': [99, 106]}], 'symbols': [], 'user_mentions': [{'screen_name': 'amazonmusic', 'name': 'Amazon Music', 'id': 14740219, 'id_str': '14740219', 'indices': [3, 15]}, {'screen_name': 'bts_bighit', 'name': 'BTS_official', 'id': 1409798257, 'id_str': '1409798257', 'indices': [86, 97]}], 'urls': []}\n",
      "\n",
      "{'hashtags': [], 'symbols': [], 'user_mentions': [{'screen_name': 'unknwnstatus', 'name': '𝗟❍❍𝗰𝗵', 'id': 1147909784, 'id_str': '1147909784', 'indices': [0, 13]}, {'screen_name': 'bts_bighit', 'name': 'BTS_official', 'id': 1409798257, 'id_str': '1409798257', 'indices': [14, 25]}, {'screen_name': 'BLACKPINK', 'name': 'BLACKPINKOFFICIAL', 'id': 1273850774380883975, 'id_str': '1273850774380883975', 'indices': [26, 36]}], 'urls': []}\n",
      "\n",
      "{'hashtags': [], 'symbols': [], 'user_mentions': [{'screen_name': 'bts_bighit', 'name': 'BTS_official', 'id': 1409798257, 'id_str': '1409798257', 'indices': [8, 19]}], 'urls': [{'url': 'https://t.co/nE9ET2YyME', 'expanded_url': 'https://twitter.com/i/web/status/1598653661831663616', 'display_url': 'twitter.com/i/web/status/1…', 'indices': [105, 128]}]}\n",
      "\n",
      "{'hashtags': [], 'symbols': [], 'user_mentions': [{'screen_name': 'zachsang', 'name': 'Zach Sang', 'id': 58354091, 'id_str': '58354091', 'indices': [3, 12]}, {'screen_name': 'onamp', 'name': 'Amp', 'id': 1444897357087211522, 'id_str': '1444897357087211522', 'indices': [71, 77]}], 'urls': []}\n"
     ]
    },
    {
     "name": "stdout",
     "output_type": "stream",
     "text": [
      "\n",
      "{'hashtags': [], 'symbols': [], 'user_mentions': [{'screen_name': 'unknwnstatus', 'name': '𝗟❍❍𝗰𝗵', 'id': 1147909784, 'id_str': '1147909784', 'indices': [3, 16]}, {'screen_name': 'bts_bighit', 'name': 'BTS_official', 'id': 1409798257, 'id_str': '1409798257', 'indices': [22, 33]}], 'urls': []}\n",
      "\n",
      "{'hashtags': [{'text': 'RM', 'indices': [48, 51]}, {'text': 'INDIGO', 'indices': [99, 106]}], 'symbols': [], 'user_mentions': [{'screen_name': 'amazonmusic', 'name': 'Amazon Music', 'id': 14740219, 'id_str': '14740219', 'indices': [3, 15]}, {'screen_name': 'bts_bighit', 'name': 'BTS_official', 'id': 1409798257, 'id_str': '1409798257', 'indices': [86, 97]}], 'urls': []}\n",
      "\n",
      "{'hashtags': [], 'symbols': [], 'user_mentions': [{'screen_name': 'Jess_Virgill', 'name': 'FentyCelineLilie', 'id': 1142851045204418560, 'id_str': '1142851045204418560', 'indices': [3, 16]}, {'screen_name': 'bts_bighit', 'name': 'BTS_official', 'id': 1409798257, 'id_str': '1409798257', 'indices': [29, 40]}], 'urls': []}\n",
      "\n",
      "{'hashtags': [{'text': 'RM', 'indices': [48, 51]}, {'text': 'INDIGO', 'indices': [99, 106]}], 'symbols': [], 'user_mentions': [{'screen_name': 'amazonmusic', 'name': 'Amazon Music', 'id': 14740219, 'id_str': '14740219', 'indices': [3, 15]}, {'screen_name': 'bts_bighit', 'name': 'BTS_official', 'id': 1409798257, 'id_str': '1409798257', 'indices': [86, 97]}], 'urls': []}\n",
      "\n",
      "{'hashtags': [{'text': 'BTS', 'indices': [108, 112]}, {'text': 'BTSARMY', 'indices': [113, 121]}], 'symbols': [], 'user_mentions': [{'screen_name': 'GeffenRecords', 'name': 'Geffen Records', 'id': 845009313257152512, 'id_str': '845009313257152512', 'indices': [3, 17]}, {'screen_name': 'bts_bighit', 'name': 'BTS_official', 'id': 1409798257, 'id_str': '1409798257', 'indices': [20, 31]}], 'urls': []}\n",
      "\n",
      "{'hashtags': [{'text': 'RM', 'indices': [68, 71]}], 'symbols': [], 'user_mentions': [{'screen_name': 'SpotifyKpop', 'name': 'Spotify ❤️ K-Pop', 'id': 978459450871697408, 'id_str': '978459450871697408', 'indices': [3, 15]}], 'urls': []}\n",
      "\n",
      "{'hashtags': [{'text': 'RM', 'indices': [48, 51]}, {'text': 'INDIGO', 'indices': [99, 106]}], 'symbols': [], 'user_mentions': [{'screen_name': 'amazonmusic', 'name': 'Amazon Music', 'id': 14740219, 'id_str': '14740219', 'indices': [3, 15]}, {'screen_name': 'bts_bighit', 'name': 'BTS_official', 'id': 1409798257, 'id_str': '1409798257', 'indices': [86, 97]}], 'urls': []}\n",
      "\n",
      "{'hashtags': [{'text': 'RM', 'indices': [48, 51]}, {'text': 'INDIGO', 'indices': [99, 106]}], 'symbols': [], 'user_mentions': [{'screen_name': 'amazonmusic', 'name': 'Amazon Music', 'id': 14740219, 'id_str': '14740219', 'indices': [3, 15]}, {'screen_name': 'bts_bighit', 'name': 'BTS_official', 'id': 1409798257, 'id_str': '1409798257', 'indices': [86, 97]}], 'urls': []}\n",
      "\n",
      "{'hashtags': [{'text': 'RM', 'indices': [48, 51]}, {'text': 'INDIGO', 'indices': [99, 106]}], 'symbols': [], 'user_mentions': [{'screen_name': 'amazonmusic', 'name': 'Amazon Music', 'id': 14740219, 'id_str': '14740219', 'indices': [3, 15]}, {'screen_name': 'bts_bighit', 'name': 'BTS_official', 'id': 1409798257, 'id_str': '1409798257', 'indices': [86, 97]}], 'urls': []}\n",
      "\n",
      "{'hashtags': [{'text': 'BTS', 'indices': [108, 112]}, {'text': 'BTSARMY', 'indices': [113, 121]}], 'symbols': [], 'user_mentions': [{'screen_name': 'GeffenRecords', 'name': 'Geffen Records', 'id': 845009313257152512, 'id_str': '845009313257152512', 'indices': [3, 17]}, {'screen_name': 'bts_bighit', 'name': 'BTS_official', 'id': 1409798257, 'id_str': '1409798257', 'indices': [20, 31]}], 'urls': []}\n",
      "\n",
      "{'hashtags': [{'text': 'BTS', 'indices': [108, 112]}, {'text': 'BTSARMY', 'indices': [113, 121]}], 'symbols': [], 'user_mentions': [{'screen_name': 'GeffenRecords', 'name': 'Geffen Records', 'id': 845009313257152512, 'id_str': '845009313257152512', 'indices': [3, 17]}, {'screen_name': 'bts_bighit', 'name': 'BTS_official', 'id': 1409798257, 'id_str': '1409798257', 'indices': [20, 31]}], 'urls': []}\n",
      "\n",
      "{'hashtags': [{'text': 'RM', 'indices': [48, 51]}, {'text': 'INDIGO', 'indices': [99, 106]}], 'symbols': [], 'user_mentions': [{'screen_name': 'amazonmusic', 'name': 'Amazon Music', 'id': 14740219, 'id_str': '14740219', 'indices': [3, 15]}, {'screen_name': 'bts_bighit', 'name': 'BTS_official', 'id': 1409798257, 'id_str': '1409798257', 'indices': [86, 97]}], 'urls': []}\n",
      "\n",
      "{'hashtags': [{'text': '2022MAMA', 'indices': [15, 24]}, {'text': 'jhope', 'indices': [37, 43]}, {'text': '제이홉', 'indices': [44, 48]}], 'symbols': [], 'user_mentions': [{'screen_name': 'MnetMAMA', 'name': 'MAMA AWARDS', 'id': 128487133, 'id_str': '128487133', 'indices': [3, 12]}, {'screen_name': 'bts_bighit', 'name': 'BTS_official', 'id': 1409798257, 'id_str': '1409798257', 'indices': [49, 60]}], 'urls': []}\n",
      "\n",
      "{'hashtags': [{'text': 'RM', 'indices': [48, 51]}, {'text': 'INDIGO', 'indices': [99, 106]}], 'symbols': [], 'user_mentions': [{'screen_name': 'amazonmusic', 'name': 'Amazon Music', 'id': 14740219, 'id_str': '14740219', 'indices': [3, 15]}, {'screen_name': 'bts_bighit', 'name': 'BTS_official', 'id': 1409798257, 'id_str': '1409798257', 'indices': [86, 97]}], 'urls': []}\n",
      "\n",
      "{'hashtags': [], 'symbols': [], 'user_mentions': [{'screen_name': 'spicytamsz', 'name': '\\u200eً', 'id': 38557223, 'id_str': '38557223', 'indices': [0, 11]}, {'screen_name': 'UNICEF', 'name': 'UNICEF', 'id': 33933259, 'id_str': '33933259', 'indices': [12, 19]}, {'screen_name': 'bts_bighit', 'name': 'BTS_official', 'id': 1409798257, 'id_str': '1409798257', 'indices': [20, 31]}, {'screen_name': 'Spotify', 'name': 'Spotify', 'id': 17230018, 'id_str': '17230018', 'indices': [32, 40]}, {'screen_name': 'SpotifyKR', 'name': 'Spotify Korea', 'id': 1207908245118963712, 'id_str': '1207908245118963712', 'indices': [41, 51]}, {'screen_name': 'jeremyerlich', 'name': 'Jeremy Erlich', 'id': 455677895, 'id_str': '455677895', 'indices': [52, 65]}, {'screen_name': 'eldsjal', 'name': 'Daniel Ek', 'id': 11094232, 'id_str': '11094232', 'indices': [66, 74]}], 'urls': [{'url': 'https://t.co/waAfC6Rca4', 'expanded_url': 'https://twitter.com/i/web/status/1598653476682477569', 'display_url': 'twitter.com/i/web/status/1…', 'indices': [117, 140]}]}\n",
      "\n",
      "{'hashtags': [], 'symbols': [], 'user_mentions': [{'screen_name': 'Jess_Virgill', 'name': 'FentyCelineLilie', 'id': 1142851045204418560, 'id_str': '1142851045204418560', 'indices': [3, 16]}, {'screen_name': 'bts_bighit', 'name': 'BTS_official', 'id': 1409798257, 'id_str': '1409798257', 'indices': [29, 40]}], 'urls': []}\n",
      "\n",
      "{'hashtags': [], 'symbols': [], 'user_mentions': [{'screen_name': 'Jess_Virgill', 'name': 'FentyCelineLilie', 'id': 1142851045204418560, 'id_str': '1142851045204418560', 'indices': [3, 16]}, {'screen_name': 'bts_bighit', 'name': 'BTS_official', 'id': 1409798257, 'id_str': '1409798257', 'indices': [29, 40]}], 'urls': []}\n",
      "\n",
      "{'hashtags': [{'text': 'TodaysBangtan', 'indices': [30, 44]}], 'symbols': [], 'user_mentions': [{'screen_name': 'ryuminating', 'name': 'christa⁷ 💜💙 INDIGO', 'id': 1120535292857978880, 'id_str': '1120535292857978880', 'indices': [3, 15]}, {'screen_name': 'bts_bighit', 'name': 'BTS_official', 'id': 1409798257, 'id_str': '1409798257', 'indices': [17, 28]}], 'urls': []}\n",
      "\n",
      "{'hashtags': [], 'symbols': [], 'user_mentions': [{'screen_name': 'myonlyoneJK', 'name': '🐰빛나는나의JK.97밤이🐰', 'id': 1436646373080715268, 'id_str': '1436646373080715268', 'indices': [0, 12]}, {'screen_name': 'BIGHIT_MUSIC', 'name': 'BIGHIT MUSIC', 'id': 168683422, 'id_str': '168683422', 'indices': [13, 26]}, {'screen_name': 'bts_bighit', 'name': 'BTS_official', 'id': 1409798257, 'id_str': '1409798257', 'indices': [27, 38]}, {'screen_name': 'BTS_twt', 'name': '방탄소년단', 'id': 335141638, 'id_str': '335141638', 'indices': [39, 47]}, {'screen_name': 'HYBEOFFICIALtwt', 'name': 'HYBE OFFICIAL', 'id': 1377043537452146688, 'id_str': '1377043537452146688', 'indices': [48, 64]}], 'urls': [{'url': 'https://t.co/bq6o6Ue0O5', 'expanded_url': 'https://twitter.com/i/web/status/1598653400421437440', 'display_url': 'twitter.com/i/web/status/1…', 'indices': [117, 140]}]}\n",
      "\n",
      "{'hashtags': [{'text': 'RM', 'indices': [48, 51]}, {'text': 'INDIGO', 'indices': [99, 106]}], 'symbols': [], 'user_mentions': [{'screen_name': 'amazonmusic', 'name': 'Amazon Music', 'id': 14740219, 'id_str': '14740219', 'indices': [3, 15]}, {'screen_name': 'bts_bighit', 'name': 'BTS_official', 'id': 1409798257, 'id_str': '1409798257', 'indices': [86, 97]}], 'urls': []}\n"
     ]
    },
    {
     "name": "stdout",
     "output_type": "stream",
     "text": [
      "\n",
      "{'hashtags': [{'text': 'RM', 'indices': [48, 51]}, {'text': 'INDIGO', 'indices': [99, 106]}], 'symbols': [], 'user_mentions': [{'screen_name': 'amazonmusic', 'name': 'Amazon Music', 'id': 14740219, 'id_str': '14740219', 'indices': [3, 15]}, {'screen_name': 'bts_bighit', 'name': 'BTS_official', 'id': 1409798257, 'id_str': '1409798257', 'indices': [86, 97]}], 'urls': []}\n",
      "\n",
      "{'hashtags': [{'text': 'RM', 'indices': [48, 51]}, {'text': 'INDIGO', 'indices': [99, 106]}], 'symbols': [], 'user_mentions': [{'screen_name': 'amazonmusic', 'name': 'Amazon Music', 'id': 14740219, 'id_str': '14740219', 'indices': [3, 15]}, {'screen_name': 'bts_bighit', 'name': 'BTS_official', 'id': 1409798257, 'id_str': '1409798257', 'indices': [86, 97]}], 'urls': []}\n",
      "\n",
      "{'hashtags': [{'text': 'RM', 'indices': [48, 51]}, {'text': 'INDIGO', 'indices': [99, 106]}], 'symbols': [], 'user_mentions': [{'screen_name': 'amazonmusic', 'name': 'Amazon Music', 'id': 14740219, 'id_str': '14740219', 'indices': [3, 15]}, {'screen_name': 'bts_bighit', 'name': 'BTS_official', 'id': 1409798257, 'id_str': '1409798257', 'indices': [86, 97]}], 'urls': []}\n",
      "\n",
      "{'hashtags': [{'text': 'RM', 'indices': [48, 51]}, {'text': 'INDIGO', 'indices': [99, 106]}], 'symbols': [], 'user_mentions': [{'screen_name': 'amazonmusic', 'name': 'Amazon Music', 'id': 14740219, 'id_str': '14740219', 'indices': [3, 15]}, {'screen_name': 'bts_bighit', 'name': 'BTS_official', 'id': 1409798257, 'id_str': '1409798257', 'indices': [86, 97]}], 'urls': []}\n",
      "\n",
      "{'hashtags': [{'text': 'RM', 'indices': [48, 51]}, {'text': 'INDIGO', 'indices': [99, 106]}], 'symbols': [], 'user_mentions': [{'screen_name': 'amazonmusic', 'name': 'Amazon Music', 'id': 14740219, 'id_str': '14740219', 'indices': [3, 15]}, {'screen_name': 'bts_bighit', 'name': 'BTS_official', 'id': 1409798257, 'id_str': '1409798257', 'indices': [86, 97]}], 'urls': []}\n",
      "\n",
      "{'hashtags': [{'text': 'RM', 'indices': [48, 51]}, {'text': 'INDIGO', 'indices': [99, 106]}], 'symbols': [], 'user_mentions': [{'screen_name': 'amazonmusic', 'name': 'Amazon Music', 'id': 14740219, 'id_str': '14740219', 'indices': [3, 15]}, {'screen_name': 'bts_bighit', 'name': 'BTS_official', 'id': 1409798257, 'id_str': '1409798257', 'indices': [86, 97]}], 'urls': []}\n",
      "\n",
      "{'hashtags': [{'text': 'RM', 'indices': [48, 51]}, {'text': 'INDIGO', 'indices': [99, 106]}], 'symbols': [], 'user_mentions': [{'screen_name': 'amazonmusic', 'name': 'Amazon Music', 'id': 14740219, 'id_str': '14740219', 'indices': [3, 15]}, {'screen_name': 'bts_bighit', 'name': 'BTS_official', 'id': 1409798257, 'id_str': '1409798257', 'indices': [86, 97]}], 'urls': []}\n",
      "\n",
      "{'hashtags': [{'text': 'RM', 'indices': [48, 51]}, {'text': 'INDIGO', 'indices': [99, 106]}], 'symbols': [], 'user_mentions': [{'screen_name': 'amazonmusic', 'name': 'Amazon Music', 'id': 14740219, 'id_str': '14740219', 'indices': [3, 15]}, {'screen_name': 'bts_bighit', 'name': 'BTS_official', 'id': 1409798257, 'id_str': '1409798257', 'indices': [86, 97]}], 'urls': []}\n",
      "\n",
      "{'hashtags': [], 'symbols': [], 'user_mentions': [{'screen_name': 'PJM_vocal', 'name': 'JIMIN VOCAL | threads & analyses', 'id': 1284163802527707142, 'id_str': '1284163802527707142', 'indices': [3, 13]}, {'screen_name': 'bts_bighit', 'name': 'BTS_official', 'id': 1409798257, 'id_str': '1409798257', 'indices': [15, 26]}], 'urls': []}\n",
      "\n",
      "{'hashtags': [{'text': 'RM', 'indices': [48, 51]}, {'text': 'INDIGO', 'indices': [99, 106]}], 'symbols': [], 'user_mentions': [{'screen_name': 'amazonmusic', 'name': 'Amazon Music', 'id': 14740219, 'id_str': '14740219', 'indices': [3, 15]}, {'screen_name': 'bts_bighit', 'name': 'BTS_official', 'id': 1409798257, 'id_str': '1409798257', 'indices': [86, 97]}], 'urls': []}\n",
      "\n",
      "{'hashtags': [{'text': 'SpotifySupportsBullies', 'indices': [115, 138]}], 'symbols': [], 'user_mentions': [{'screen_name': 'BlinkerSavage', 'name': 'Nǝvǝr Forgǝt I BRING THE PAIN LIKE 🦋⁴', 'id': 1246926534616797184, 'id_str': '1246926534616797184', 'indices': [3, 17]}, {'screen_name': 'BTS_twt', 'name': '방탄소년단', 'id': 335141638, 'id_str': '335141638', 'indices': [51, 59]}, {'screen_name': 'bts_bighit', 'name': 'BTS_official', 'id': 1409798257, 'id_str': '1409798257', 'indices': [60, 71]}], 'urls': []}\n",
      "\n",
      "{'hashtags': [], 'symbols': [], 'user_mentions': [{'screen_name': 'SpotifyKR', 'name': 'Spotify Korea', 'id': 1207908245118963712, 'id_str': '1207908245118963712', 'indices': [0, 10]}, {'screen_name': 'bts_bighit', 'name': 'BTS_official', 'id': 1409798257, 'id_str': '1409798257', 'indices': [11, 22]}, {'screen_name': 'Spotify', 'name': 'Spotify', 'id': 17230018, 'id_str': '17230018', 'indices': [43, 51]}], 'urls': [{'url': 'https://t.co/ik6pnsDQMZ', 'expanded_url': 'https://twitter.com/i/web/status/1598653194904952837', 'display_url': 'twitter.com/i/web/status/1…', 'indices': [116, 139]}]}\n",
      "\n",
      "{'hashtags': [{'text': 'RM', 'indices': [48, 51]}, {'text': 'INDIGO', 'indices': [99, 106]}], 'symbols': [], 'user_mentions': [{'screen_name': 'amazonmusic', 'name': 'Amazon Music', 'id': 14740219, 'id_str': '14740219', 'indices': [3, 15]}, {'screen_name': 'bts_bighit', 'name': 'BTS_official', 'id': 1409798257, 'id_str': '1409798257', 'indices': [86, 97]}], 'urls': []}\n",
      "\n",
      "{'hashtags': [{'text': 'BTS', 'indices': [108, 112]}, {'text': 'BTSARMY', 'indices': [113, 121]}], 'symbols': [], 'user_mentions': [{'screen_name': 'GeffenRecords', 'name': 'Geffen Records', 'id': 845009313257152512, 'id_str': '845009313257152512', 'indices': [3, 17]}, {'screen_name': 'bts_bighit', 'name': 'BTS_official', 'id': 1409798257, 'id_str': '1409798257', 'indices': [20, 31]}], 'urls': []}\n",
      "\n",
      "{'hashtags': [], 'symbols': [], 'user_mentions': [{'screen_name': 'yadottoday_', 'name': '.', 'id': 1391708813800067074, 'id_str': '1391708813800067074', 'indices': [3, 15]}, {'screen_name': 'SpotifyKpop', 'name': 'Spotify ❤️ K-Pop', 'id': 978459450871697408, 'id_str': '978459450871697408', 'indices': [17, 29]}, {'screen_name': 'bts_bighit', 'name': 'BTS_official', 'id': 1409798257, 'id_str': '1409798257', 'indices': [30, 41]}], 'urls': []}\n",
      "\n",
      "{'hashtags': [], 'symbols': [], 'user_mentions': [{'screen_name': 'Jess_Virgill', 'name': 'FentyCelineLilie', 'id': 1142851045204418560, 'id_str': '1142851045204418560', 'indices': [3, 16]}, {'screen_name': 'bts_bighit', 'name': 'BTS_official', 'id': 1409798257, 'id_str': '1409798257', 'indices': [29, 40]}], 'urls': []}\n",
      "\n",
      "{'hashtags': [], 'symbols': [], 'user_mentions': [{'screen_name': 'unknwnstatus', 'name': '𝗟❍❍𝗰𝗵', 'id': 1147909784, 'id_str': '1147909784', 'indices': [3, 16]}, {'screen_name': 'bts_bighit', 'name': 'BTS_official', 'id': 1409798257, 'id_str': '1409798257', 'indices': [22, 33]}], 'urls': []}\n",
      "\n",
      "{'hashtags': [{'text': 'RM', 'indices': [48, 51]}, {'text': 'INDIGO', 'indices': [99, 106]}], 'symbols': [], 'user_mentions': [{'screen_name': 'amazonmusic', 'name': 'Amazon Music', 'id': 14740219, 'id_str': '14740219', 'indices': [3, 15]}, {'screen_name': 'bts_bighit', 'name': 'BTS_official', 'id': 1409798257, 'id_str': '1409798257', 'indices': [86, 97]}], 'urls': []}\n",
      "\n",
      "{'hashtags': [], 'symbols': [], 'user_mentions': [{'screen_name': 'LalisaM84716659', 'name': 'LALISA 💛LUSI💜 6430💜💚', 'id': 1293929496899272704, 'id_str': '1293929496899272704', 'indices': [3, 19]}, {'screen_name': 'bts_bighit', 'name': 'BTS_official', 'id': 1409798257, 'id_str': '1409798257', 'indices': [54, 65]}, {'screen_name': 'UNICEF', 'name': 'UNICEF', 'id': 33933259, 'id_str': '33933259', 'indices': [95, 102]}], 'urls': []}\n",
      "\n",
      "{'hashtags': [{'text': 'RM', 'indices': [48, 51]}, {'text': 'INDIGO', 'indices': [99, 106]}], 'symbols': [], 'user_mentions': [{'screen_name': 'amazonmusic', 'name': 'Amazon Music', 'id': 14740219, 'id_str': '14740219', 'indices': [3, 15]}, {'screen_name': 'bts_bighit', 'name': 'BTS_official', 'id': 1409798257, 'id_str': '1409798257', 'indices': [86, 97]}], 'urls': []}\n",
      "\n",
      "{'hashtags': [], 'symbols': [], 'user_mentions': [{'screen_name': 'myonlyoneJK', 'name': '🐰빛나는나의JK.97밤이🐰', 'id': 1436646373080715268, 'id_str': '1436646373080715268', 'indices': [0, 12]}, {'screen_name': 'BIGHIT_MUSIC', 'name': 'BIGHIT MUSIC', 'id': 168683422, 'id_str': '168683422', 'indices': [13, 26]}, {'screen_name': 'bts_bighit', 'name': 'BTS_official', 'id': 1409798257, 'id_str': '1409798257', 'indices': [27, 38]}, {'screen_name': 'BTS_twt', 'name': '방탄소년단', 'id': 335141638, 'id_str': '335141638', 'indices': [39, 47]}, {'screen_name': 'HYBEOFFICIALtwt', 'name': 'HYBE OFFICIAL', 'id': 1377043537452146688, 'id_str': '1377043537452146688', 'indices': [48, 64]}], 'urls': [{'url': 'https://t.co/z8Kocn35Ga', 'expanded_url': 'https://twitter.com/i/web/status/1598653109579964417', 'display_url': 'twitter.com/i/web/status/1…', 'indices': [117, 140]}]}\n"
     ]
    },
    {
     "name": "stdout",
     "output_type": "stream",
     "text": [
      "\n",
      "{'hashtags': [{'text': 'RM', 'indices': [48, 51]}, {'text': 'INDIGO', 'indices': [99, 106]}], 'symbols': [], 'user_mentions': [{'screen_name': 'amazonmusic', 'name': 'Amazon Music', 'id': 14740219, 'id_str': '14740219', 'indices': [3, 15]}, {'screen_name': 'bts_bighit', 'name': 'BTS_official', 'id': 1409798257, 'id_str': '1409798257', 'indices': [86, 97]}], 'urls': []}\n",
      "\n",
      "{'hashtags': [], 'symbols': [], 'user_mentions': [{'screen_name': 'SpotifyKpop', 'name': 'Spotify ❤️ K-Pop', 'id': 978459450871697408, 'id_str': '978459450871697408', 'indices': [0, 12]}, {'screen_name': 'bts_bighit', 'name': 'BTS_official', 'id': 1409798257, 'id_str': '1409798257', 'indices': [13, 24]}], 'urls': [{'url': 'https://t.co/SMuoKHTwts', 'expanded_url': 'https://twitter.com/i/web/status/1598653089531056129', 'display_url': 'twitter.com/i/web/status/1…', 'indices': [116, 139]}]}\n",
      "\n",
      "{'hashtags': [{'text': 'RM', 'indices': [48, 51]}, {'text': 'INDIGO', 'indices': [99, 106]}], 'symbols': [], 'user_mentions': [{'screen_name': 'amazonmusic', 'name': 'Amazon Music', 'id': 14740219, 'id_str': '14740219', 'indices': [3, 15]}, {'screen_name': 'bts_bighit', 'name': 'BTS_official', 'id': 1409798257, 'id_str': '1409798257', 'indices': [86, 97]}], 'urls': []}\n",
      "\n",
      "{'hashtags': [{'text': 'RM', 'indices': [48, 51]}, {'text': 'INDIGO', 'indices': [99, 106]}], 'symbols': [], 'user_mentions': [{'screen_name': 'amazonmusic', 'name': 'Amazon Music', 'id': 14740219, 'id_str': '14740219', 'indices': [3, 15]}, {'screen_name': 'bts_bighit', 'name': 'BTS_official', 'id': 1409798257, 'id_str': '1409798257', 'indices': [86, 97]}], 'urls': []}\n",
      "\n",
      "{'hashtags': [{'text': 'RM', 'indices': [48, 51]}, {'text': 'INDIGO', 'indices': [99, 106]}], 'symbols': [], 'user_mentions': [{'screen_name': 'amazonmusic', 'name': 'Amazon Music', 'id': 14740219, 'id_str': '14740219', 'indices': [3, 15]}, {'screen_name': 'bts_bighit', 'name': 'BTS_official', 'id': 1409798257, 'id_str': '1409798257', 'indices': [86, 97]}], 'urls': []}\n",
      "\n",
      "{'hashtags': [{'text': 'Army', 'indices': [16, 21]}, {'text': 'IndigoByRM', 'indices': [46, 57]}, {'text': 'RessoIDN', 'indices': [127, 136]}], 'symbols': [], 'user_mentions': [{'screen_name': 'ressoidn', 'name': 'Resso Indonesia', 'id': 1165911201378750464, 'id_str': '1165911201378750464', 'indices': [3, 12]}], 'urls': []}\n",
      "\n",
      "{'hashtags': [{'text': 'RM', 'indices': [48, 51]}, {'text': 'INDIGO', 'indices': [99, 106]}], 'symbols': [], 'user_mentions': [{'screen_name': 'amazonmusic', 'name': 'Amazon Music', 'id': 14740219, 'id_str': '14740219', 'indices': [3, 15]}, {'screen_name': 'bts_bighit', 'name': 'BTS_official', 'id': 1409798257, 'id_str': '1409798257', 'indices': [86, 97]}], 'urls': []}\n",
      "\n",
      "{'hashtags': [], 'symbols': [], 'user_mentions': [{'screen_name': 'zidiazquadart', 'name': 'Diaxzquadblink❤', 'id': 1168173721523240962, 'id_str': '1168173721523240962', 'indices': [3, 17]}, {'screen_name': 'SpotifyKpop', 'name': 'Spotify ❤️ K-Pop', 'id': 978459450871697408, 'id_str': '978459450871697408', 'indices': [19, 31]}, {'screen_name': 'bts_bighit', 'name': 'BTS_official', 'id': 1409798257, 'id_str': '1409798257', 'indices': [32, 43]}], 'urls': []}\n",
      "\n",
      "{'hashtags': [{'text': 'RM', 'indices': [48, 51]}, {'text': 'INDIGO', 'indices': [99, 106]}], 'symbols': [], 'user_mentions': [{'screen_name': 'amazonmusic', 'name': 'Amazon Music', 'id': 14740219, 'id_str': '14740219', 'indices': [3, 15]}, {'screen_name': 'bts_bighit', 'name': 'BTS_official', 'id': 1409798257, 'id_str': '1409798257', 'indices': [86, 97]}], 'urls': []}\n",
      "\n",
      "{'hashtags': [{'text': 'RM', 'indices': [48, 51]}, {'text': 'INDIGO', 'indices': [99, 106]}], 'symbols': [], 'user_mentions': [{'screen_name': 'amazonmusic', 'name': 'Amazon Music', 'id': 14740219, 'id_str': '14740219', 'indices': [3, 15]}, {'screen_name': 'bts_bighit', 'name': 'BTS_official', 'id': 1409798257, 'id_str': '1409798257', 'indices': [86, 97]}], 'urls': []}\n",
      "\n",
      "{'hashtags': [{'text': 'RM', 'indices': [48, 51]}, {'text': 'INDIGO', 'indices': [99, 106]}], 'symbols': [], 'user_mentions': [{'screen_name': 'amazonmusic', 'name': 'Amazon Music', 'id': 14740219, 'id_str': '14740219', 'indices': [3, 15]}, {'screen_name': 'bts_bighit', 'name': 'BTS_official', 'id': 1409798257, 'id_str': '1409798257', 'indices': [86, 97]}], 'urls': []}\n",
      "\n",
      "{'hashtags': [], 'symbols': [], 'user_mentions': [{'screen_name': 'zidiazquadart', 'name': 'Diaxzquadblink❤', 'id': 1168173721523240962, 'id_str': '1168173721523240962', 'indices': [3, 17]}, {'screen_name': 'SpotifyKpop', 'name': 'Spotify ❤️ K-Pop', 'id': 978459450871697408, 'id_str': '978459450871697408', 'indices': [19, 31]}, {'screen_name': 'bts_bighit', 'name': 'BTS_official', 'id': 1409798257, 'id_str': '1409798257', 'indices': [32, 43]}, {'screen_name': 'Spotify', 'name': 'Spotify', 'id': 17230018, 'id_str': '17230018', 'indices': [58, 66]}], 'urls': []}\n",
      "\n",
      "{'hashtags': [{'text': 'RM', 'indices': [48, 51]}, {'text': 'INDIGO', 'indices': [99, 106]}], 'symbols': [], 'user_mentions': [{'screen_name': 'amazonmusic', 'name': 'Amazon Music', 'id': 14740219, 'id_str': '14740219', 'indices': [3, 15]}, {'screen_name': 'bts_bighit', 'name': 'BTS_official', 'id': 1409798257, 'id_str': '1409798257', 'indices': [86, 97]}], 'urls': []}\n",
      "\n",
      "{'hashtags': [{'text': 'RM', 'indices': [48, 51]}, {'text': 'INDIGO', 'indices': [99, 106]}], 'symbols': [], 'user_mentions': [{'screen_name': 'amazonmusic', 'name': 'Amazon Music', 'id': 14740219, 'id_str': '14740219', 'indices': [3, 15]}, {'screen_name': 'bts_bighit', 'name': 'BTS_official', 'id': 1409798257, 'id_str': '1409798257', 'indices': [86, 97]}], 'urls': []}\n",
      "\n",
      "{'hashtags': [{'text': 'BTS', 'indices': [108, 112]}, {'text': 'BTSARMY', 'indices': [113, 121]}], 'symbols': [], 'user_mentions': [{'screen_name': 'GeffenRecords', 'name': 'Geffen Records', 'id': 845009313257152512, 'id_str': '845009313257152512', 'indices': [3, 17]}, {'screen_name': 'bts_bighit', 'name': 'BTS_official', 'id': 1409798257, 'id_str': '1409798257', 'indices': [20, 31]}], 'urls': []}\n",
      "\n",
      "{'hashtags': [{'text': 'RM', 'indices': [48, 51]}, {'text': 'INDIGO', 'indices': [99, 106]}], 'symbols': [], 'user_mentions': [{'screen_name': 'amazonmusic', 'name': 'Amazon Music', 'id': 14740219, 'id_str': '14740219', 'indices': [3, 15]}, {'screen_name': 'bts_bighit', 'name': 'BTS_official', 'id': 1409798257, 'id_str': '1409798257', 'indices': [86, 97]}], 'urls': []}\n",
      "\n",
      "{'hashtags': [{'text': '2022MAMA_Moment', 'indices': [15, 31]}, {'text': 'jhope', 'indices': [88, 94]}], 'symbols': [], 'user_mentions': [{'screen_name': 'MnetMAMA', 'name': 'MAMA AWARDS', 'id': 128487133, 'id_str': '128487133', 'indices': [3, 12]}, {'screen_name': 'bts_bighit', 'name': 'BTS_official', 'id': 1409798257, 'id_str': '1409798257', 'indices': [95, 106]}], 'urls': []}\n"
     ]
    },
    {
     "ename": "KeyboardInterrupt",
     "evalue": "Interrupted by user",
     "output_type": "error",
     "traceback": [
      "\u001b[0;31m---------------------------------------------------------------------------\u001b[0m",
      "\u001b[0;31mKeyboardInterrupt\u001b[0m                         Traceback (most recent call last)",
      "Input \u001b[0;32mIn [372]\u001b[0m, in \u001b[0;36m<cell line: 6>\u001b[0;34m()\u001b[0m\n\u001b[1;32m      8\u001b[0m \u001b[38;5;28;01mfor\u001b[39;00m x \u001b[38;5;129;01min\u001b[39;00m reply:\n\u001b[1;32m      9\u001b[0m     \u001b[38;5;28mprint\u001b[39m(x\u001b[38;5;241m.\u001b[39m_json[\u001b[38;5;124m'\u001b[39m\u001b[38;5;124mentities\u001b[39m\u001b[38;5;124m'\u001b[39m])\n\u001b[0;32m---> 10\u001b[0m     \u001b[38;5;28;43minput\u001b[39;49m\u001b[43m(\u001b[49m\u001b[43m)\u001b[49m\n\u001b[1;32m     11\u001b[0m \u001b[38;5;28;01mbreak\u001b[39;00m\n",
      "File \u001b[0;32m~/miniforge3/lib/python3.9/site-packages/ipykernel/kernelbase.py:1161\u001b[0m, in \u001b[0;36mKernel.raw_input\u001b[0;34m(self, prompt)\u001b[0m\n\u001b[1;32m   1157\u001b[0m \u001b[38;5;28;01mif\u001b[39;00m \u001b[38;5;129;01mnot\u001b[39;00m \u001b[38;5;28mself\u001b[39m\u001b[38;5;241m.\u001b[39m_allow_stdin:\n\u001b[1;32m   1158\u001b[0m     \u001b[38;5;28;01mraise\u001b[39;00m StdinNotImplementedError(\n\u001b[1;32m   1159\u001b[0m         \u001b[38;5;124m\"\u001b[39m\u001b[38;5;124mraw_input was called, but this frontend does not support input requests.\u001b[39m\u001b[38;5;124m\"\u001b[39m\n\u001b[1;32m   1160\u001b[0m     )\n\u001b[0;32m-> 1161\u001b[0m \u001b[38;5;28;01mreturn\u001b[39;00m \u001b[38;5;28;43mself\u001b[39;49m\u001b[38;5;241;43m.\u001b[39;49m\u001b[43m_input_request\u001b[49m\u001b[43m(\u001b[49m\n\u001b[1;32m   1162\u001b[0m \u001b[43m    \u001b[49m\u001b[38;5;28;43mstr\u001b[39;49m\u001b[43m(\u001b[49m\u001b[43mprompt\u001b[49m\u001b[43m)\u001b[49m\u001b[43m,\u001b[49m\n\u001b[1;32m   1163\u001b[0m \u001b[43m    \u001b[49m\u001b[38;5;28;43mself\u001b[39;49m\u001b[38;5;241;43m.\u001b[39;49m\u001b[43m_parent_ident\u001b[49m\u001b[43m[\u001b[49m\u001b[38;5;124;43m\"\u001b[39;49m\u001b[38;5;124;43mshell\u001b[39;49m\u001b[38;5;124;43m\"\u001b[39;49m\u001b[43m]\u001b[49m\u001b[43m,\u001b[49m\n\u001b[1;32m   1164\u001b[0m \u001b[43m    \u001b[49m\u001b[38;5;28;43mself\u001b[39;49m\u001b[38;5;241;43m.\u001b[39;49m\u001b[43mget_parent\u001b[49m\u001b[43m(\u001b[49m\u001b[38;5;124;43m\"\u001b[39;49m\u001b[38;5;124;43mshell\u001b[39;49m\u001b[38;5;124;43m\"\u001b[39;49m\u001b[43m)\u001b[49m\u001b[43m,\u001b[49m\n\u001b[1;32m   1165\u001b[0m \u001b[43m    \u001b[49m\u001b[43mpassword\u001b[49m\u001b[38;5;241;43m=\u001b[39;49m\u001b[38;5;28;43;01mFalse\u001b[39;49;00m\u001b[43m,\u001b[49m\n\u001b[1;32m   1166\u001b[0m \u001b[43m\u001b[49m\u001b[43m)\u001b[49m\n",
      "File \u001b[0;32m~/miniforge3/lib/python3.9/site-packages/ipykernel/kernelbase.py:1205\u001b[0m, in \u001b[0;36mKernel._input_request\u001b[0;34m(self, prompt, ident, parent, password)\u001b[0m\n\u001b[1;32m   1202\u001b[0m             \u001b[38;5;28;01mbreak\u001b[39;00m\n\u001b[1;32m   1203\u001b[0m \u001b[38;5;28;01mexcept\u001b[39;00m \u001b[38;5;167;01mKeyboardInterrupt\u001b[39;00m:\n\u001b[1;32m   1204\u001b[0m     \u001b[38;5;66;03m# re-raise KeyboardInterrupt, to truncate traceback\u001b[39;00m\n\u001b[0;32m-> 1205\u001b[0m     \u001b[38;5;28;01mraise\u001b[39;00m \u001b[38;5;167;01mKeyboardInterrupt\u001b[39;00m(\u001b[38;5;124m\"\u001b[39m\u001b[38;5;124mInterrupted by user\u001b[39m\u001b[38;5;124m\"\u001b[39m) \u001b[38;5;28;01mfrom\u001b[39;00m \u001b[38;5;28mNone\u001b[39m\n\u001b[1;32m   1206\u001b[0m \u001b[38;5;28;01mexcept\u001b[39;00m \u001b[38;5;167;01mException\u001b[39;00m:\n\u001b[1;32m   1207\u001b[0m     \u001b[38;5;28mself\u001b[39m\u001b[38;5;241m.\u001b[39mlog\u001b[38;5;241m.\u001b[39mwarning(\u001b[38;5;124m\"\u001b[39m\u001b[38;5;124mInvalid Message:\u001b[39m\u001b[38;5;124m\"\u001b[39m, exc_info\u001b[38;5;241m=\u001b[39m\u001b[38;5;28;01mTrue\u001b[39;00m)\n",
      "\u001b[0;31mKeyboardInterrupt\u001b[0m: Interrupted by user"
     ]
    }
   ],
   "source": [
    "# Among these tweets let us analyze which have...\n",
    "\n",
    "# Images reply with Images? Propogation of Visual Roles in SNS?\n",
    "# Comments to Posts w. Images vs Comments to Posts w/o Images\n",
    "a = 0\n",
    "for reply in all_replies:\n",
    "    a = 0\n",
    "    for x in reply:\n",
    "        print(x._json['entities'])\n",
    "        input()\n",
    "    break"
   ]
  },
  {
   "cell_type": "code",
   "execution_count": 381,
   "id": "43e54ec2",
   "metadata": {},
   "outputs": [],
   "source": [
    "# LIke, Comment가 잘 안되는 이유?\n",
    "# follower들은 잘 되니까.\n",
    "\n",
    "# 인스타그램으로 보기!!!!\n",
    "\n",
    "\n",
    "# 외모지상주의\n",
    "# 비디오 썸네일에 얼굴이 나와있으면\n",
    "# 더 조회수나 이게 더 높은가?\n",
    "\n",
    "# 유투브에 노래만 나오는?\n",
    "# 뮤직비디오 vs 그냥 노래\n",
    "# 노래를 좋아하는지 외모? 외향적인 걸... 선호한다.\n",
    "\n",
    "# 1.\n",
    "# 팬이 아닌 사람 vs 팬인 사람.\n",
    "# Follow안 한 사람 포스트 A를 like  vs 포스트 A를 like하고 Follow한 사람.\n",
    "\n",
    "# 어떤 post를 올리는지?\n",
    "# follower들은: fashion, beauty, food?\n",
    "# x들은: 관심사가 어떤지?\n",
    "\n",
    "\n",
    "# 2.\n",
    "# Follower들의 관심사 - beuaty, health?\n",
    "# Picture Things vs.\n",
    "\n",
    "# Followers\n",
    "\n",
    "# 연령과 성별, 관심사\n",
    "# Age, Demographic => \n",
    "\n",
    "# vs. Other celebrities\n"
   ]
  },
  {
   "cell_type": "code",
   "execution_count": null,
   "id": "610c86cc",
   "metadata": {},
   "outputs": [],
   "source": [
    "# Not directly menteiond or through visual?"
   ]
  },
  {
   "cell_type": "code",
   "execution_count": 14,
   "id": "a2af6579",
   "metadata": {},
   "outputs": [],
   "source": [
    "# import pandas as pd\n",
    "\n",
    "# obj = pd.read_pickle(r'all_replies.pickle')\n",
    "import json\n",
    "\n",
    "df = json.load(open(\"all_idols_with_bb.json\"))"
   ]
  },
  {
   "cell_type": "code",
   "execution_count": 17,
   "id": "dc9f43fb",
   "metadata": {},
   "outputs": [
    {
     "data": {
      "text/plain": [
       "2300"
      ]
     },
     "execution_count": 17,
     "metadata": {},
     "output_type": "execute_result"
    }
   ],
   "source": [
    "len(df[0])"
   ]
  },
  {
   "cell_type": "code",
   "execution_count": null,
   "id": "c2b18970",
   "metadata": {},
   "outputs": [],
   "source": [
    "2300, 3250, 3245, 2551"
   ]
  }
 ],
 "metadata": {
  "kernelspec": {
   "display_name": "Python 3 (ipykernel)",
   "language": "python",
   "name": "python3"
  },
  "language_info": {
   "codemirror_mode": {
    "name": "ipython",
    "version": 3
   },
   "file_extension": ".py",
   "mimetype": "text/x-python",
   "name": "python",
   "nbconvert_exporter": "python",
   "pygments_lexer": "ipython3",
   "version": "3.9.7"
  }
 },
 "nbformat": 4,
 "nbformat_minor": 5
}
