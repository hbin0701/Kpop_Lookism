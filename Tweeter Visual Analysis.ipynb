{
 "cells": [
  {
   "cell_type": "code",
   "execution_count": 1,
   "id": "d8333b1b",
   "metadata": {},
   "outputs": [],
   "source": [
    "import tweepy\n",
    "import pandas as pd\n",
    "\n",
    "# 트위터 Application에서 발급 받은 key 정보들 문자열로 입력\n",
    "\n",
    "consumer_key = \"NOT SHOWN\"\n",
    "consumer_secret = \"NOT SHOWN\"\n",
    "access_token = \"NOT SHOWN\"\n",
    "access_token_secret = \"NOT SHOWN\""
   ]
  },
  {
   "cell_type": "code",
   "execution_count": 4,
   "id": "29312374",
   "metadata": {
    "scrolled": true
   },
   "outputs": [],
   "source": [
    "# tweepy 패키지를 불러옵니다.\n",
    "import tweepy \n",
    "\n",
    "# 핸들러를 생성하고 개인정보 인증요청을 합니다.\n",
    "auth = tweepy.OAuthHandler(consumer_key, consumer_secret)\n",
    "\n",
    "# 엑세스 요청\n",
    "auth.set_access_token(access_token, access_token_secret)\n",
    "\n",
    "# twitter API 생성\n",
    "api = tweepy.API(auth)"
   ]
  },
  {
   "cell_type": "code",
   "execution_count": 5,
   "id": "8bd87804",
   "metadata": {},
   "outputs": [],
   "source": [
    "# 1. 남녀 아이돌간의 T-TESt\n",
    "# 2. 한국 영어 community간의 T-TEST\n",
    "# 3. 어떤 단어들이 자주 등장하는가 (Topic Modeling with BERT)\n",
    "# 4. 사진이 있는가?\n",
    "# 5. 어떤게 Like를 더 많이 받는가?\n",
    "\n",
    "# -\t인기있는 계정 모으기\n",
    "# \t어떤 포스트들이 인기가 더 많을까?\n",
    "\n",
    "#\t인기없는 계정 = 일반인\n",
    "#\t어떤 포스트들을 올릴까?\n",
    "\n",
    "# 아티스트 자체들의 계정.\n",
    "# 어떤 사진?\n",
    "\n",
    "# analyze retweets?\n"
   ]
  },
  {
   "cell_type": "code",
   "execution_count": 20,
   "id": "a516322e",
   "metadata": {},
   "outputs": [],
   "source": [
    "# 키워드 검색\n",
    "result = []\n",
    "public_tweets = api.search_tweets('jungkook', count=200)\n",
    "# for tweet in public_tweets:\n",
    "#     print(tweet.text)\n",
    "#     break"
   ]
  },
  {
   "cell_type": "markdown",
   "id": "6b0984ae",
   "metadata": {},
   "source": [
    "### Here, we retrieve the official pages from the idols themselves.\n",
    "We don't use the normal twitter users because they have too much noise.\n",
    "\n",
    "For simplicity, we only use photos. Videos and links are ignored, as we believe that it is less intuitive (and less likely) and direct in speicifcally promoting/emphasizing one's the subject's appearance.\n",
    "\n",
    "First, we see whether the tweets that contain images of their faces have a correlation with retweet and likes.\n",
    "Specifically, we further measure if these images contain face and how about the size of the face? All of them, or just one? (More like really a profile picture - emphasizing visual)\n",
    "\n"
   ]
  },
  {
   "cell_type": "code",
   "execution_count": null,
   "id": "875c2a41",
   "metadata": {},
   "outputs": [],
   "source": [
    "### PICTURE STATISTICS ###"
   ]
  },
  {
   "cell_type": "code",
   "execution_count": 5,
   "id": "aa87fac6",
   "metadata": {},
   "outputs": [],
   "source": [
    "# Nov 28th.\n",
    "import tweepy\n",
    "from tqdm.auto import tqdm\n",
    "import json\n",
    "\n",
    "client = tweepy.Client(bearer_token=\"NOT SHOWN\")\n",
    "\n",
    "BTS_userID = 1409798257 # \"bts_bighit\"\n",
    "TW_userID = 3129056526 # \"JYPETWICE\"\n",
    "EXO_userID = 873115441303924736 # \"weareoneEXO\"\n",
    "BP_userID = 878204370403250176 # \"ygofficialblink\"\n",
    "\n",
    "bts = [x for x in tweepy.Paginator(client.get_users_tweets, id=BTS_userID, max_results=100).flatten(limit=5000)]\n",
    "twice = [x for x in tweepy.Paginator(client.get_users_tweets, id=TW_userID, max_results=100).flatten(limit=5000)]\n",
    "exo = [x for x in tweepy.Paginator(client.get_users_tweets, id=EXO_userID, max_results=100).flatten(limit=5000)]\n",
    "blackpink = [x for x in tweepy.Paginator(client.get_users_tweets, id=BP_userID, max_results=100).flatten(limit=5000)]"
   ]
  },
  {
   "cell_type": "code",
   "execution_count": 6,
   "id": "6485fabe",
   "metadata": {},
   "outputs": [
    {
     "data": {
      "application/json": {
       "ascii": false,
       "bar_format": null,
       "colour": null,
       "elapsed": 0.01625800132751465,
       "initial": 0,
       "n": 0,
       "ncols": null,
       "nrows": 24,
       "postfix": null,
       "prefix": "",
       "rate": null,
       "total": 23,
       "unit": "it",
       "unit_divisor": 1000,
       "unit_scale": false
      },
      "application/vnd.jupyter.widget-view+json": {
       "model_id": "267d1b13330c480e9dae852869c1a925",
       "version_major": 2,
       "version_minor": 0
      },
      "text/plain": [
       "  0%|          | 0/23 [00:00<?, ?it/s]"
      ]
     },
     "metadata": {},
     "output_type": "display_data"
    },
    {
     "data": {
      "application/json": {
       "ascii": false,
       "bar_format": null,
       "colour": null,
       "elapsed": 0.022148847579956055,
       "initial": 0,
       "n": 0,
       "ncols": null,
       "nrows": 24,
       "postfix": null,
       "prefix": "",
       "rate": null,
       "total": 33,
       "unit": "it",
       "unit_divisor": 1000,
       "unit_scale": false
      },
      "application/vnd.jupyter.widget-view+json": {
       "model_id": "e962efcb994b4dd7a5791b048152424a",
       "version_major": 2,
       "version_minor": 0
      },
      "text/plain": [
       "  0%|          | 0/33 [00:00<?, ?it/s]"
      ]
     },
     "metadata": {},
     "output_type": "display_data"
    },
    {
     "data": {
      "application/json": {
       "ascii": false,
       "bar_format": null,
       "colour": null,
       "elapsed": 0.024531126022338867,
       "initial": 0,
       "n": 0,
       "ncols": null,
       "nrows": 24,
       "postfix": null,
       "prefix": "",
       "rate": null,
       "total": 33,
       "unit": "it",
       "unit_divisor": 1000,
       "unit_scale": false
      },
      "application/vnd.jupyter.widget-view+json": {
       "model_id": "9a7cc4a0f6ea4980b9edf525e674c7be",
       "version_major": 2,
       "version_minor": 0
      },
      "text/plain": [
       "  0%|          | 0/33 [00:00<?, ?it/s]"
      ]
     },
     "metadata": {},
     "output_type": "display_data"
    },
    {
     "data": {
      "application/json": {
       "ascii": false,
       "bar_format": null,
       "colour": null,
       "elapsed": 0.02409505844116211,
       "initial": 0,
       "n": 0,
       "ncols": null,
       "nrows": 24,
       "postfix": null,
       "prefix": "",
       "rate": null,
       "total": 26,
       "unit": "it",
       "unit_divisor": 1000,
       "unit_scale": false
      },
      "application/vnd.jupyter.widget-view+json": {
       "model_id": "1346058e88494023bd01fb2058482cc6",
       "version_major": 2,
       "version_minor": 0
      },
      "text/plain": [
       "  0%|          | 0/26 [00:00<?, ?it/s]"
      ]
     },
     "metadata": {},
     "output_type": "display_data"
    }
   ],
   "source": [
    "# GET ALL THE INFOS:\n",
    "from tqdm.auto import tqdm\n",
    "\n",
    "all_idols = []\n",
    "\n",
    "for i, idols in enumerate([bts, twice, exo, blackpink]):\n",
    "    \n",
    "    each_idol_set = {}\n",
    "    \n",
    "    for pr_idx in tqdm(range(0, len(idols), 100)):\n",
    "        elem = client.get_tweets([x.id for x in idols][pr_idx: pr_idx+100], \n",
    "                     tweet_fields = [\"public_metrics\", 'created_at', 'text', 'id', 'attachments', 'author_id', 'entities'], \n",
    "                     media_fields=['preview_image_url', 'url'],\n",
    "                     user_fields=['username'],\n",
    "                     expansions=['attachments.media_keys', 'author_id']\n",
    "                    )\n",
    "\n",
    "        for idx in range(len(elem.data)):\n",
    "\n",
    "            result = {}\n",
    "\n",
    "            try:\n",
    "                result['img_link'] = elem.data[idx].entities['urls'][0]['images'][0]['url'] # Only bring the first one.\n",
    "            except:\n",
    "                result['img_link'] = None\n",
    "\n",
    "            temp = elem.data[idx].public_metrics\n",
    "\n",
    "            for key in temp:\n",
    "                result[key] = temp[key]\n",
    "\n",
    "            result['created_at'] = elem.data[idx].created_at\n",
    "            result['text'] = elem.data[idx].text\n",
    "\n",
    "            each_idol_set[elem.data[idx].id] = result\n",
    "\n",
    "    all_idols.append(each_idol_set)"
   ]
  },
  {
   "cell_type": "code",
   "execution_count": 7,
   "id": "2c74d018",
   "metadata": {},
   "outputs": [
    {
     "name": "stdout",
     "output_type": "stream",
     "text": [
      "Name: BTS | Size: 2300 | Ratio: 52.087%\n",
      "\n",
      "Name: TWICE | Size: 3250 | Ratio: 50.8%\n",
      "\n",
      "Name: EXO | Size: 3245 | Ratio: 27.92%\n",
      "\n",
      "Name: BLACKPINK | Size: 2551 | Ratio: 31.282%\n",
      "\n"
     ]
    }
   ],
   "source": [
    "# SEE RATIO OF PHOTO CONTAINING SAMPLES\n",
    "names = [\"bts\", \"twice\", \"exo\", \"blackpink\"]\n",
    "\n",
    "for idx, idol in enumerate(all_idols):\n",
    "    name = names[idx]\n",
    "    ratio = sum([1 for x in idol if idol[x]['img_link'] is not None]) / len(idol)\n",
    "    print(f\"Name: {name.upper()} | Size: {len(idol)} | Ratio: {round(ratio*100, 3)}%\")\n",
    "    print()"
   ]
  },
  {
   "cell_type": "code",
   "execution_count": 33,
   "id": "bb907b24",
   "metadata": {},
   "outputs": [],
   "source": [
    "# for idol in all_idols:\n",
    "#     for x in idol:\n",
    "#         idol[x]['created_at'] = str(idol[x]['created_at'])\n",
    "\n",
    "# import json\n",
    "\n",
    "# with open(\"all_idols.json\", \"w\") as f:\n",
    "#     json.dump(all_idols, f, indent=4)"
   ]
  },
  {
   "cell_type": "code",
   "execution_count": 4,
   "id": "5fa17168",
   "metadata": {},
   "outputs": [
    {
     "name": "stdout",
     "output_type": "stream",
     "text": [
      "/workspace\n"
     ]
    }
   ],
   "source": [
    "%cd workspace"
   ]
  },
  {
   "cell_type": "code",
   "execution_count": 5,
   "id": "0e561cab",
   "metadata": {},
   "outputs": [],
   "source": [
    "import json\n",
    "\n",
    "all_idols = json.load(open(\"all_idols.json\"))"
   ]
  },
  {
   "cell_type": "code",
   "execution_count": null,
   "id": "c10d2630",
   "metadata": {},
   "outputs": [],
   "source": [
    "### DETECT FACES ###"
   ]
  },
  {
   "cell_type": "code",
   "execution_count": 10,
   "id": "fab01ed3",
   "metadata": {},
   "outputs": [
    {
     "name": "stdout",
     "output_type": "stream",
     "text": [
      "Cloning into 'facenet-pytorch'...\n",
      "remote: Enumerating objects: 1267, done.\u001b[K\n",
      "remote: Total 1267 (delta 0), reused 0 (delta 0), pack-reused 1267\u001b[K\n",
      "Receiving objects: 100% (1267/1267), 22.88 MiB | 12.59 MiB/s, done.\n",
      "Resolving deltas: 100% (620/620), done.\n"
     ]
    }
   ],
   "source": [
    "# DETECT FACE\n",
    "# !pip install facenet-pytorch"
   ]
  },
  {
   "cell_type": "code",
   "execution_count": 7,
   "id": "23fa2e4b",
   "metadata": {},
   "outputs": [
    {
     "name": "stderr",
     "output_type": "stream",
     "text": [
      "/opt/conda/lib/python3.8/site-packages/torch/nn/functional.py:718: UserWarning: Named tensors and all their associated APIs are an experimental feature and subject to change. Please do not use them for anything important until they are released as stable. (Triggered internally at  /pytorch/c10/core/TensorImpl.h:1156.)\n",
      "  return torch.max_pool2d(input, kernel_size, stride, padding, dilation, ceil_mode)\n"
     ]
    },
    {
     "data": {
      "image/png": "[encoded data removed]",
      "text/plain": [
       "<Figure size 432x288 with 1 Axes>"
      ]
     },
     "metadata": {},
     "output_type": "display_data"
    }
   ],
   "source": [
    "# EXAMPLE VISAULIZATION\n",
    "\n",
    "from facenet_pytorch import MTCNN, InceptionResnetV1\n",
    "import torch\n",
    "# If required, create a face detection pipeline using MTCNN:\n",
    "mtcnn = MTCNN(\n",
    "    image_size=256, margin=20, min_face_size=5, post_process=True,\n",
    "    device=torch.device(\"cuda:0\")\n",
    ")\n",
    "\n",
    "import requests\n",
    "\n",
    "DownURL = \"https://pbs.twimg.com/news_img/1596836280448733184/Rq4kp6vk?format=jpg&name=orig\"\n",
    "\n",
    "img_data = requests.get(DownURL).content\n",
    "with open('image_name.jpg', 'wb') as handler:\n",
    "    handler.write(img_data)\n",
    "\n",
    "from PIL import Image\n",
    "\n",
    "img = Image.open('image_name.jpg').convert('RGB')\n",
    "# Get cropped and prewhitened image tensor\n",
    "img_cropped = mtcnn.detect(img)\n",
    "\n",
    "import torchvision\n",
    "from torchvision import transforms \n",
    "from torchvision.io import read_image\n",
    "import torchvision.transforms.functional as F\n",
    "import numpy as np\n",
    "import matplotlib.pyplot as plt\n",
    "\n",
    "def show(imgs):\n",
    "    if not isinstance(imgs, list): # 하나의 이미지일때\n",
    "        imgs = [imgs]\n",
    "    fig, axs = plt.subplots(ncols=len(imgs), squeeze=False) # 총 사진의 개수만큼 plot\n",
    "    for i, img in enumerate(imgs):\n",
    "        img = img.detach() # 학습 그래프에서 제외\n",
    "        img = F.to_pil_image(img) # torch.tensor 에서 pil 이미지로 변환\n",
    "        axs[0, i].imshow(np.asarray(img)) # numpy 배열로 변경후, 가로로 이미지를 나열\n",
    "        axs[0, i].set(xticklabels=[], yticklabels=[], xticks=[], yticks=[])\n",
    "\n",
    "final_img = read_image('image_name.jpg')\n",
    "bb = torch.LongTensor(img_cropped[0])\n",
    "show(torchvision.utils.draw_bounding_boxes(final_img, bb))"
   ]
  },
  {
   "cell_type": "code",
   "execution_count": 11,
   "id": "0f106c2b",
   "metadata": {},
   "outputs": [
    {
     "data": {
      "application/vnd.jupyter.widget-view+json": {
       "model_id": "6d10edd92ad2457d99397265a6f53c42",
       "version_major": 2,
       "version_minor": 0
      },
      "text/plain": [
       "  0%|          | 0/2300 [00:00<?, ?it/s]"
      ]
     },
     "metadata": {},
     "output_type": "display_data"
    },
    {
     "name": "stderr",
     "output_type": "stream",
     "text": [
      "/opt/conda/lib/python3.8/site-packages/PIL/Image.py:962: UserWarning: Palette images with Transparency expressed in bytes should be converted to RGBA images\n",
      "  warnings.warn(\n"
     ]
    },
    {
     "data": {
      "application/vnd.jupyter.widget-view+json": {
       "model_id": "25ed64e376cd48e3bd955387a36da809",
       "version_major": 2,
       "version_minor": 0
      },
      "text/plain": [
       "  0%|          | 0/3250 [00:00<?, ?it/s]"
      ]
     },
     "metadata": {},
     "output_type": "display_data"
    },
    {
     "data": {
      "application/vnd.jupyter.widget-view+json": {
       "model_id": "0871be64579c41ecb57541ac0078fd1b",
       "version_major": 2,
       "version_minor": 0
      },
      "text/plain": [
       "  0%|          | 0/3245 [00:00<?, ?it/s]"
      ]
     },
     "metadata": {},
     "output_type": "display_data"
    },
    {
     "data": {
      "application/vnd.jupyter.widget-view+json": {
       "model_id": "b74071c65eda485da32ca1235d1248e3",
       "version_major": 2,
       "version_minor": 0
      },
      "text/plain": [
       "  0%|          | 0/2551 [00:00<?, ?it/s]"
      ]
     },
     "metadata": {},
     "output_type": "display_data"
    }
   ],
   "source": [
    "# RUN FOR ALL IMAGES\n",
    "\n",
    "from tqdm.auto import tqdm\n",
    "# USE BOUNDING BOXES TO DETECT IMAGES\n",
    "for idol in all_idols:\n",
    "    for x in tqdm(idol):\n",
    "        elem = idol[x]\n",
    "        if elem['img_link']:\n",
    "            img_data = requests.get(elem['img_link']).content\n",
    "\n",
    "            if len(img_data) == 0:\n",
    "                continue\n",
    "\n",
    "            with open('image_name.jpg', 'wb') as handler:\n",
    "                handler.write(img_data)\n",
    "            \n",
    "            handler.close()\n",
    "\n",
    "            img = Image.open('image_name.jpg').convert('RGB')\n",
    "            img_cropped = mtcnn.detect(img)\n",
    "\n",
    "            if img_cropped[0] is not None:\n",
    "                idol[x][\"bounding_box\"] = img_cropped[0]\n",
    "                idol[x][\"prob\"] = img_cropped[1]"
   ]
  },
  {
   "cell_type": "code",
   "execution_count": 37,
   "id": "f57015d7",
   "metadata": {},
   "outputs": [],
   "source": [
    "for idols in all_idols:\n",
    "    for idol in idols:\n",
    "        if \"bounding_box\" in idols[idol] and idols[idol][\"bounding_box\"] != None:\n",
    "            idols[idol][\"bounding_box\"] = list([list([float(y) for y in x]) for x in idols[idol][\"bounding_box\"]])\n",
    "            idols[idol][\"prob\"] = list([float(x) for x in idols[idol][\"prob\"]])\n",
    "\n",
    "with open(\"all_idols_with_bb.json\", \"w\") as f:\n",
    "    json.dump(all_idols, f, indent=4)"
   ]
  },
  {
   "cell_type": "code",
   "execution_count": 66,
   "id": "2c9fbced",
   "metadata": {},
   "outputs": [],
   "source": [
    "# 1. Images with NO FACE vs Images with FACE\n",
    "# 2. Images with FACE vs NO IMAGES.\n",
    "\n",
    "# 1. Implementation\n",
    "with_face = [ [], [], [], []]\n",
    "no_face =  [ [], [], [], []]\n",
    "no_img =  [ [], [], [], []]\n",
    "\n",
    "names = [\"bts\", \"twice\", \"exo\", \"blackpink\"]\n",
    "\n",
    "for idx, idols in enumerate(all_idols):\n",
    "    for x in idols:\n",
    "        info =  {\n",
    "        \"retweet_count\": idols[x]['retweet_count'],\n",
    "        \"reply_count\": idols[x][\"reply_count\"],\n",
    "        \"like_count\": idols[x][\"like_count\"],\n",
    "        }\n",
    "        if not idols[x]['img_link']:\n",
    "            no_img[idx].append(info)\n",
    "            continue # no image            \n",
    "        \n",
    "        if \"bounding_box\" in idols[x] and type(idols[x][\"bounding_box\"]) == list:\n",
    "            with_face[idx].append(info)\n",
    "        else:\n",
    "            no_face[idx].append(info)"
   ]
  },
  {
   "cell_type": "code",
   "execution_count": 69,
   "id": "de054f29",
   "metadata": {},
   "outputs": [
    {
     "name": "stdout",
     "output_type": "stream",
     "text": [
      "bts Statistics\n",
      "------------------------------------------------------------\n",
      "With Face: 534\n",
      "retweet_count (110012.40262172285, 58702.88641581122)\n",
      "reply_count (4804.157303370786, 5559.246691145165)\n",
      "like_count (354666.3202247191, 203911.32033808026)\n",
      "\n",
      "No Face: 664\n",
      "retweet_count (107913.72439759035, 76564.72652692242)\n",
      "reply_count (4640.512048192771, 6567.873476924703)\n",
      "like_count (321372.6054216867, 240207.27088400154)\n",
      "\n",
      "No Img: 1102\n",
      "retweet_count (163492.11978221417, 122668.60999580642)\n",
      "reply_count (8597.620689655172, 15326.169647588074)\n",
      "like_count (348976.4773139746, 412218.9382643704)\n",
      "\n",
      "twice Statistics\n",
      "------------------------------------------------------------\n",
      "With Face: 664\n",
      "retweet_count (14751.926204819278, 11745.505278063782)\n",
      "reply_count (699.4126506024096, 846.4968215392819)\n",
      "like_count (59779.08885542169, 38406.51358207036)\n",
      "\n",
      "No Face: 987\n",
      "retweet_count (8701.05977710233, 6704.941834537572)\n",
      "reply_count (394.2512664640324, 554.7108830873239)\n",
      "like_count (40980.54407294833, 24576.52003672066)\n",
      "\n",
      "No Img: 1599\n",
      "retweet_count (11218.199499687305, 12212.2373230654)\n",
      "reply_count (793.8993120700438, 1529.9068504651566)\n",
      "like_count (47679.57786116323, 46468.3595983319)\n",
      "\n",
      "exo Statistics\n",
      "------------------------------------------------------------\n",
      "With Face: 353\n",
      "retweet_count (27635.320113314447, 19055.409091228437)\n",
      "reply_count (961.2946175637394, 2136.3609785054923)\n",
      "like_count (53683.28895184136, 41413.91405781268)\n",
      "\n",
      "No Face: 553\n",
      "retweet_count (22355.656419529838, 11868.627979096149)\n",
      "reply_count (621.2784810126582, 820.4904843602525)\n",
      "like_count (50703.71428571428, 27293.18135126057)\n",
      "\n",
      "No Img: 2339\n",
      "retweet_count (40061.2616502779, 28730.67732826463)\n",
      "reply_count (1675.4326635314237, 3004.220640704553)\n",
      "like_count (80633.94655835828, 59763.16101255182)\n",
      "\n",
      "blackpink Statistics\n",
      "------------------------------------------------------------\n",
      "With Face: 198\n",
      "retweet_count (14483.863636363636, 14709.82772068776)\n",
      "reply_count (46.64141414141414, 166.40794373891634)\n",
      "like_count (4901.469696969697, 12447.95450019724)\n",
      "\n",
      "No Face: 600\n",
      "retweet_count (11501.01, 14948.759404486826)\n",
      "reply_count (93.22, 298.1289233424582)\n",
      "like_count (8362.12, 19878.87100756982)\n",
      "\n",
      "No Img: 1753\n",
      "retweet_count (15288.507701083856, 21756.069298869676)\n",
      "reply_count (196.59726183685112, 660.3578338449522)\n",
      "like_count (10075.210496292071, 19065.229387680185)\n",
      "\n"
     ]
    }
   ],
   "source": [
    "\n",
    "import statistics as st\n",
    "\n",
    "def mean(li, key):\n",
    "    li_proc = [x[key] for x in li]\n",
    "    return sum(li_proc) / len(li), st.pstdev(li_proc)\n",
    "\n",
    "for idx, name in enumerate(names):\n",
    "    print(name, \"Statistics\")\n",
    "    print(\"---\" * 20)\n",
    "\n",
    "    print(\"With Face:\", len(with_face[idx]))\n",
    "    for key in info:\n",
    "        print(key, mean(with_face[idx], key))\n",
    "    print()\n",
    "\n",
    "    print(\"No Face:\", len(no_face[idx]))\n",
    "    for key in info:\n",
    "        print(key, mean(no_face[idx], key))\n",
    "    print()\n",
    "\n",
    "    print(\"No Img:\", len(no_img[idx]))\n",
    "    for key in info:\n",
    "        print(key, mean(no_img[idx], key))\n",
    "    print()"
   ]
  },
  {
   "cell_type": "code",
   "execution_count": 128,
   "id": "cf02af34",
   "metadata": {},
   "outputs": [
    {
     "name": "stdout",
     "output_type": "stream",
     "text": [
      "Statistics of bts\n",
      "Face (534, 23.22%) vs Image (1198, 52.09%)\n",
      "Top 10: 0.0% vs 50.0%\n",
      "Top 25: 4.0% vs 40.0%\n",
      "Top 50: 2.0% vs 34.0%\n",
      "Top 100: 4.0% vs 31.0%\n",
      "------------------------------\n",
      "Statistics of twice\n",
      "Face (664, 20.43%) vs Image (1651, 50.8%)\n",
      "Top 10: 0.0% vs 20.0%\n",
      "Top 25: 0.0% vs 16.0%\n",
      "Top 50: 0.0% vs 22.0%\n",
      "Top 100: 5.0% vs 27.0%\n",
      "------------------------------\n",
      "Statistics of exo\n",
      "Face (353, 10.88%) vs Image (906, 27.92%)\n",
      "Top 10: 0.0% vs 20.0%\n",
      "Top 25: 0.0% vs 48.0%\n",
      "Top 50: 8.0% vs 62.0%\n",
      "Top 100: 9.0% vs 52.0%\n",
      "------------------------------\n",
      "Statistics of blackpink\n",
      "Face (198, 7.76%) vs Image (798, 31.28%)\n",
      "Top 10: 10.0% vs 40.0%\n",
      "Top 25: 12.0% vs 32.0%\n",
      "Top 50: 10.0% vs 28.0%\n",
      "Top 100: 5.0% vs 22.0%\n",
      "------------------------------\n"
     ]
    }
   ],
   "source": [
    "# Varaince is too large! Better to examine the most popular posts!\n",
    "\n",
    "## Further Experiments.\n",
    "\n",
    "# 1. Select Top-N (n=10, n=25, n=50, n=100)\n",
    "# How many percent of posts contain images?\n",
    "\n",
    "# Quantitative Analysis\n",
    "\n",
    "# We cannot logically infer from retweet_counts. May not be a logical. \n",
    "# Instead, what decides or dictates this?\n",
    "\n",
    "# Sort by Retweet\n",
    "top_n = [10, 25, 50, 100]\n",
    "\n",
    "## STATS 1 ##\n",
    "def get_ratio(x, face=True):\n",
    "    # contains face image?\n",
    "    if not face:\n",
    "        target = [1 if elem[\"img_link\"] != None else 0 for elem in x]\n",
    "    else:\n",
    "        # there is image yes/no?\n",
    "        target = [1 if \"bounding_box\" in elem else 0 for elem in x]\n",
    "\n",
    "    return sum(target) / len(target)\n",
    "\n",
    "def get_len(x, face=True):\n",
    "    if not face:\n",
    "        target = [1 if elem[\"img_link\"] != None else 0 for elem in x]\n",
    "    else:\n",
    "        # there is image yes/no?\n",
    "        target = [1 if \"bounding_box\" in elem else 0 for elem in x]\n",
    "\n",
    "    return sum(target)\n",
    "\n",
    "for idx, idols in enumerate(all_idols):\n",
    "    print(\"Statistics of\", names[idx])\n",
    "    sorted_list = sorted(list(idols.values()), key=lambda x: x['retweet_count'])\n",
    "\n",
    "    face_len = get_len(list(idols.values()))\n",
    "    image_len = get_len(list(idols.values()), face=False)\n",
    "    print(f\"Face ({face_len}, {round(face_len / len(idols) * 100 , 2)}%) vs Image ({image_len}, {round(image_len / len(idols) * 100, 2)}%)\")\n",
    "    for n in top_n:\n",
    "        print(f\"Top {n}: {round(get_ratio(sorted_list[:n]) * 100, 2)}% vs {round(get_ratio(sorted_list[:n], False) * 100, 2)}%\")\n",
    "    \n",
    "    print(\"---\" * 10)\n",
    "\n",
    "\n",
    "# [Q1 and Q2 are not the scope of our study.]\n",
    "# Q1. Where is it situated?\n",
    "# Q2. What topics do top-k post comprise of?\n",
    "\n",
    "# Retweet은 아마 상관없을수도...\n",
    "\n",
    "# =>\n",
    "# Q3. 그럼 얼굴 계정 올리는 곳으로 가볼까?? 그게 어디지.. [중요]\n",
    "# bts, blackpink, exo, twice의 fan page를 찾아야될듯. (retweet주위로 follow많은 애들 한 3명씩 뽑아도 좋을 듯.)\n",
    "\n",
    "# 여기서 image analysis 그리고 그걸 해보는 것도 좋을 듯.\n",
    "# 그럼 팬덤이 어디 주위로 하는지 알 수 있을듯.\n",
    "# 그리고 survey하나 뿌리면 더 좋긴할듯."
   ]
  },
  {
   "cell_type": "markdown",
   "id": "5952767e",
   "metadata": {},
   "source": [
    "### We suspect the difference between Fan page vs. Official page\n",
    "\n",
    "> 덕질 계정 (사진 중심) 정보 얻기 위한 목적?"
   ]
  },
  {
   "cell_type": "markdown",
   "id": "53298e7d",
   "metadata": {},
   "source": [
    "### VISUALIZATION"
   ]
  },
  {
   "cell_type": "code",
   "execution_count": 2,
   "id": "2ecbea66",
   "metadata": {},
   "outputs": [],
   "source": [
    "import json\n",
    "all_idols = json.load(open(\"all_idols_with_bb.json\"))"
   ]
  },
  {
   "cell_type": "code",
   "execution_count": 41,
   "id": "dd00bf7b",
   "metadata": {},
   "outputs": [],
   "source": [
    "!# SEE RATIO OF PHOTO CONTAINING SAMPLES\n",
    "names = [\"bts\", \"twice\", \"exo\", \"blackpink\"]\n",
    "y1 = []\n",
    "y2 = []\n",
    "y3 = []\n",
    "\n",
    "# Exclude samples that have 0 likes\n",
    "\n",
    "for idx, idol in enumerate(all_idols):    \n",
    "    name = names[idx]\n",
    "    \n",
    "    y1_elem = sum([1 for x in idol if 'bounding_box' in idol[x] and idol[x]['like_count'] != 0])\n",
    "    y2_elem = sum([1 for x in idol if idol[x]['img_link'] is not None and idol[x]['like_count'] != 0 ])\n",
    "    y2_elem = y2_elem - y1_elem\n",
    "    y3_elem = len([x for x in idol if idol[x]['like_count'] != 0 and idol[x]['img_link'] is None])\n",
    "    y1.append(y1_elem)\n",
    "    y2.append(y2_elem)\n",
    "    y3.append(y3_elem)"
   ]
  },
  {
   "cell_type": "code",
   "execution_count": 42,
   "id": "9a2f4350",
   "metadata": {
    "scrolled": true
   },
   "outputs": [
    {
     "data": {
      "text/plain": [
       "0.03784403669724771"
      ]
     },
     "execution_count": 42,
     "metadata": {},
     "output_type": "execute_result"
    }
   ],
   "source": [
    "y1[3] / (y1[3] + y2[3] + y3[3]) # 2015"
   ]
  },
  {
   "cell_type": "code",
   "execution_count": 44,
   "id": "6bb090cd",
   "metadata": {
    "scrolled": false
   },
   "outputs": [
    {
     "data": {
      "text/plain": [
       "[471, 647, 298, 33]"
      ]
     },
     "execution_count": 44,
     "metadata": {},
     "output_type": "execute_result"
    }
   ],
   "source": [
    "y1"
   ]
  },
  {
   "cell_type": "code",
   "execution_count": 46,
   "id": "4e4c9a35",
   "metadata": {},
   "outputs": [],
   "source": [
    "sums = []\n",
    "import numpy\n",
    "\n",
    "for idx in range(4):\n",
    "    sums.append(sum([y1[idx], y2[idx], y3[idx]]))\n",
    "\n",
    "def get_perc(elem):\n",
    "    return [x / sums[idx] for idx, x in enumerate(elem)]"
   ]
  },
  {
   "cell_type": "code",
   "execution_count": 48,
   "id": "79c603f4",
   "metadata": {},
   "outputs": [],
   "source": [
    "y1 = get_perc(y1)\n",
    "y2 = get_perc(y2)\n",
    "y3 = get_perc(y3)"
   ]
  },
  {
   "cell_type": "code",
   "execution_count": 49,
   "id": "bc9a8a2f",
   "metadata": {},
   "outputs": [
    {
     "data": {
      "text/plain": [
       "[0.30505181347150256,\n",
       " 0.22203157172271792,\n",
       " 0.1028295376121463,\n",
       " 0.03784403669724771]"
      ]
     },
     "execution_count": 49,
     "metadata": {},
     "output_type": "execute_result"
    }
   ],
   "source": [
    "y1"
   ]
  },
  {
   "cell_type": "code",
   "execution_count": 63,
   "id": "0a64017b",
   "metadata": {
    "scrolled": true
   },
   "outputs": [
    {
     "name": "stderr",
     "output_type": "stream",
     "text": [
      "findfont: Font family ['normal'] not found. Falling back to DejaVu Sans.\n",
      "findfont: Font family ['normal'] not found. Falling back to DejaVu Sans.\n"
     ]
    },
    {
     "data": {
      "image/png": "[encoded data removed]",
      "text/plain": [
       "<Figure size 864x576 with 1 Axes>"
      ]
     },
     "metadata": {
      "needs_background": "light"
     },
     "output_type": "display_data"
    }
   ],
   "source": [
    "# importing package\n",
    "import matplotlib.pyplot as plt\n",
    "import numpy as np\n",
    "import matplotlib\n",
    "\n",
    "# create data\n",
    "info = ['Images w. Face', 'Images w/o. Face', 'No-Images']\n",
    "x = [x.upper() for x in names]\n",
    "\n",
    "plt.figure(figsize=(12,8))\n",
    "\n",
    "font = {'family' : 'normal',\n",
    "        'weight': 'normal',\n",
    "        'size'   : 20}\n",
    "\n",
    "matplotlib.rc('font', **font)\n",
    "\n",
    "# create data\n",
    "y1 = np.array(y1)\n",
    "y2 = np.array(y2)\n",
    "y3 = np.array(y3)\n",
    "\n",
    "# plot bars in stack manner\n",
    "plt.bar(x, y1, color='tomato', width=0.5)\n",
    "plt.bar(x, y2, bottom=y1, color='royalblue', width = 0.5)\n",
    "plt.bar(x, y3, bottom=y1+y2, color='mediumseagreen', width=0.5)\n",
    "plt.xlabel(\"Idols\")\n",
    "plt.ylabel(\"Post Ratio\")\n",
    "plt.legend(info)\n",
    "plt.title(\"Post Type Statistics\")\n",
    "\n",
    "plt.show()"
   ]
  },
  {
   "cell_type": "code",
   "execution_count": 47,
   "id": "1ff95be3",
   "metadata": {},
   "outputs": [
    {
     "name": "stdout",
     "output_type": "stream",
     "text": [
      "bts Statistics\n",
      "------------------------------------------------------------\n",
      "twice Statistics\n",
      "------------------------------------------------------------\n",
      "exo Statistics\n",
      "------------------------------------------------------------\n",
      "blackpink Statistics\n",
      "------------------------------------------------------------\n"
     ]
    }
   ],
   "source": [
    "# 1. Images with NO FACE vs Images with FACE\n",
    "# 2. Images with FACE vs NO IMAGES.\n",
    "\n",
    "# 1. Implementation\n",
    "with_face = [ [], [], [], []]\n",
    "no_face =  [ [], [], [], []]\n",
    "no_img =  [ [], [], [], []]\n",
    "\n",
    "names = [\"bts\", \"twice\", \"exo\", \"blackpink\"]\n",
    "\n",
    "for idx, idols in enumerate(all_idols):\n",
    "    for x in idols:\n",
    "        info =  {\n",
    "        \"like_count\": idols[x][\"like_count\"],\n",
    "        }\n",
    "        if not idols[x]['img_link']:\n",
    "            no_img[idx].append(info)\n",
    "            continue # no image            \n",
    "        \n",
    "        if \"bounding_box\" in idols[x] and type(idols[x][\"bounding_box\"]) == list:\n",
    "            with_face[idx].append(info)\n",
    "        else:\n",
    "            no_face[idx].append(info)\n",
    "import statistics as st\n",
    "\n",
    "def mean(li, key):\n",
    "    li_proc = [x[key] for x in li]\n",
    "    return sum(li_proc) / len(li), st.pstdev(li_proc)\n",
    "\n",
    "def get_list(li, key):\n",
    "    return [x[key] for x in li if x[key] != 0]\n",
    "\n",
    "idols_dict = {\"bts\": {}, \"twice\": {}, \"exo\": {}, \"blackpink\": {}}\n",
    "\n",
    "\n",
    "for idx, name in enumerate(names):\n",
    "    print(name, \"Statistics\")\n",
    "    print(\"---\" * 20)\n",
    "    \n",
    "    \n",
    "    idols_dict[name][\"with_face\"] = get_list(with_face[idx], \"like_count\")\n",
    "    idols_dict[name][\"without_face\"] = get_list(no_face[idx], \"like_count\")\n",
    "    idols_dict[name][\"no_img\"] = get_list(no_img[idx], \"like_count\")"
   ]
  },
  {
   "cell_type": "code",
   "execution_count": 85,
   "id": "3b5be976",
   "metadata": {
    "scrolled": false
   },
   "outputs": [
    {
     "name": "stdout",
     "output_type": "stream",
     "text": [
      "ax1 [<AxesSubplot:> <AxesSubplot:>]\n",
      "ax2 [<AxesSubplot:> <AxesSubplot:>]\n"
     ]
    },
    {
     "data": {
      "text/plain": [
       "<Figure size 1440x1440 with 0 Axes>"
      ]
     },
     "metadata": {},
     "output_type": "display_data"
    },
    {
     "data": {
      "image/png": "[encoded data removed]",
      "text/plain": [
       "<Figure size 1152x1152 with 4 Axes>"
      ]
     },
     "metadata": {
      "needs_background": "light"
     },
     "output_type": "display_data"
    }
   ],
   "source": [
    "plt.figure(figsize=(20,20))\n",
    "\n",
    "fig, (ax1, ax2) = plt.subplots(nrows=2, ncols=2, figsize=(16, 16))\n",
    "\n",
    "print(\"ax1\", ax1)\n",
    "print(\"ax2\", ax2)\n",
    "\n",
    "key = 'bts'\n",
    "# rectangular box plot\n",
    "bplot1 = ax1[0].boxplot(idols_dict[key].values(),\n",
    "                     vert=True,  # vertical box alignment\n",
    "                     patch_artist=True,  # fill with color\n",
    "                     labels=list(idols_dict[key].keys()))  # will be used to label x-ticks\n",
    "ax1[0].set_title(key.upper(), fontdict = {'fontsize' : 25})\n",
    "\n",
    "key = 'twice'\n",
    "# notch shape box plot\n",
    "bplot2 = ax1[1].boxplot(idols_dict[key].values(),\n",
    "                     vert=True,  # vertical box alignment\n",
    "                     patch_artist=True,  # fill with color\n",
    "                     labels=list(idols_dict[key].keys()))  # will be used to label x-ticks\n",
    "ax1[1].set_title(key.upper(),  fontdict = {'fontsize' : 25})\n",
    "\n",
    "\n",
    "key = 'exo'\n",
    "# rectangular box plot\n",
    "bplot3 = ax2[0].boxplot(idols_dict[key].values(),\n",
    "                     vert=True,  # vertical box alignment\n",
    "                     patch_artist=True,  # fill with color\n",
    "                     labels=list(idols_dict[key].keys()))  # will be used to label x-ticks\n",
    "ax2[0].set_title(key.upper(),  fontdict = {'fontsize' : 25})\n",
    "\n",
    "key = 'blackpink'\n",
    "# notch shape box plot\n",
    "bplot4 = ax2[1].boxplot(idols_dict[key].values(),\n",
    "                     vert=True,  # vertical box alignment\n",
    "                     patch_artist=True,  # fill with color\n",
    "                     labels=list(idols_dict[key].keys()))  # will be used to label x-ticks\n",
    "ax2[1].set_title(key.upper(),  fontdict = {'fontsize' : 25})\n",
    "\n",
    "\n",
    "\n",
    "# fill with colors\n",
    "colors = ['pink', 'lightblue', 'lightgreen']\n",
    "for bplot in (bplot1, bplot2, bplot3, bplot4):\n",
    "    for patch, color in zip(bplot['boxes'], colors):\n",
    "        patch.set_facecolor(color)\n",
    "\n",
    "# adding horizontal grid lines\n",
    "for ax in [ax1[0], ax1[1], ax2[0], ax2[1]]:\n",
    "    ax.yaxis.grid(True)\n",
    "    ax.set_xlabel('Post Type')\n",
    "    ax.set_ylabel('Number of Likes')\n",
    "\n",
    "plt.show()\n",
    "\n",
    "# for idx, key in enumerate(idols_dict):\n",
    "#     plt.subplot(2, 2, idx + 1)\n",
    "#     plt.title(key.upper())\n",
    "#     plt.ylabel(\"Number of Likes\")\n",
    "#     ax = plt.boxplot(idols_dict[key].values())\n",
    "#     plt.xticks(ticks=[1,2,3 ], labels=list(idols_dict[key].keys()))\n",
    "    \n",
    "#     # fill with colors\n",
    "#     colors = ['pink', 'lightblue', 'lightgreen']\n",
    "#     for bplot in ax:\n",
    "#         for patch, color in zip(bplot['boxes'], colors):\n",
    "#             patch.set_facecolor(color)\n"
   ]
  },
  {
   "cell_type": "code",
   "execution_count": 240,
   "id": "ff14b89b",
   "metadata": {
    "scrolled": false
   },
   "outputs": [
    {
     "data": {
      "text/plain": [
       "1544"
      ]
     },
     "execution_count": 240,
     "metadata": {},
     "output_type": "execute_result"
    }
   ],
   "source": [
    "len([x for x in all_idols[0] if all_idols[0][x]['like_count'] != 0])"
   ]
  },
  {
   "cell_type": "code",
   "execution_count": 96,
   "id": "115d5198",
   "metadata": {},
   "outputs": [],
   "source": [
    "# type = a,b,c\n",
    "# a = no_img b = other_img c = face_img\n",
    "# Only BTS\n",
    "\n",
    "target = all_idols[0]\n",
    "all_elems = []\n",
    "\n",
    "for x in target:\n",
    "    \n",
    "    if target[x]['like_count'] == 0:\n",
    "        continue\n",
    "    \n",
    "    if target[x]['img_link'] is None:\n",
    "        all_elems.append((target[x]['like_count'], 'a'))\n",
    "    elif \"bounding_box\" in target[x]:\n",
    "        all_elems.append((target[x][\"like_count\"], 'c'))\n",
    "    else:\n",
    "        all_elems.append((target[x][\"like_count\"], 'b'))"
   ]
  },
  {
   "cell_type": "code",
   "execution_count": 103,
   "id": "e9025b55",
   "metadata": {},
   "outputs": [],
   "source": [
    "sli = sorted(all_elems, key=lambda x: x[0])"
   ]
  },
  {
   "cell_type": "code",
   "execution_count": 234,
   "id": "46904acd",
   "metadata": {},
   "outputs": [
    {
     "data": {
      "text/plain": [
       "1544"
      ]
     },
     "execution_count": 234,
     "metadata": {},
     "output_type": "execute_result"
    }
   ],
   "source": [
    "len(sli)"
   ]
  },
  {
   "cell_type": "code",
   "execution_count": 1,
   "id": "97550771",
   "metadata": {},
   "outputs": [
    {
     "ename": "NameError",
     "evalue": "name 'sli' is not defined",
     "output_type": "error",
     "traceback": [
      "\u001b[0;31m---------------------------------------------------------------------------\u001b[0m",
      "\u001b[0;31mNameError\u001b[0m                                 Traceback (most recent call last)",
      "Input \u001b[0;32mIn [1]\u001b[0m, in \u001b[0;36m<cell line: 9>\u001b[0;34m()\u001b[0m\n\u001b[1;32m      6\u001b[0m plt\u001b[38;5;241m.\u001b[39mfigure(figsize\u001b[38;5;241m=\u001b[39m(\u001b[38;5;241m3\u001b[39m, \u001b[38;5;241m3\u001b[39m))\n\u001b[1;32m      8\u001b[0m N \u001b[38;5;241m=\u001b[39m \u001b[38;5;241m2000\u001b[39m\n\u001b[0;32m----> 9\u001b[0m y \u001b[38;5;241m=\u001b[39m np\u001b[38;5;241m.\u001b[39marray([x[\u001b[38;5;241m0\u001b[39m] \u001b[38;5;28;01mfor\u001b[39;00m x \u001b[38;5;129;01min\u001b[39;00m \u001b[43msli\u001b[49m])\n\u001b[1;32m     10\u001b[0m x \u001b[38;5;241m=\u001b[39m np\u001b[38;5;241m.\u001b[39marray(\u001b[38;5;28mlist\u001b[39m(\u001b[38;5;28mrange\u001b[39m(\u001b[38;5;28mlen\u001b[39m(sli))))\n\u001b[1;32m     11\u001b[0m colors \u001b[38;5;241m=\u001b[39m {\u001b[38;5;124m'\u001b[39m\u001b[38;5;124ma\u001b[39m\u001b[38;5;124m'\u001b[39m:\u001b[38;5;124m'\u001b[39m\u001b[38;5;124mlightcoral\u001b[39m\u001b[38;5;124m'\u001b[39m, \u001b[38;5;124m'\u001b[39m\u001b[38;5;124mb\u001b[39m\u001b[38;5;124m'\u001b[39m:\u001b[38;5;124m'\u001b[39m\u001b[38;5;124mlimegreen\u001b[39m\u001b[38;5;124m'\u001b[39m, \u001b[38;5;124m'\u001b[39m\u001b[38;5;124mc\u001b[39m\u001b[38;5;124m'\u001b[39m:\u001b[38;5;124m'\u001b[39m\u001b[38;5;124mroyalblue\u001b[39m\u001b[38;5;124m'\u001b[39m}\n",
      "\u001b[0;31mNameError\u001b[0m: name 'sli' is not defined"
     ]
    },
    {
     "data": {
      "text/plain": [
       "<Figure size 216x216 with 0 Axes>"
      ]
     },
     "metadata": {},
     "output_type": "display_data"
    }
   ],
   "source": [
    "import numpy as np\n",
    "import matplotlib.pyplot as plt\n",
    "\n",
    "# Fixing random state for reproducibility\n",
    "\n",
    "plt.figure(figsize=(3, 3))\n",
    "\n",
    "N = 2000\n",
    "y = np.array([x[0] for x in sli])\n",
    "x = np.array(list(range(len(sli))))\n",
    "colors = {'a':'lightcoral', 'b':'limegreen', 'c':'royalblue'}\n",
    "\n",
    "import random\n",
    "\n",
    "index = set(sorted(random.sample(list(x), 500)))\n",
    "\n",
    "# x = [sli[ind] for ind in index]\n",
    "# y_values = [a[0] for a in x]\n",
    "# x_values = list(index)\n",
    "# colors = [colors[e[1]] for e in x]\n",
    "colors = ['red'] + [x for x in colors.values()] + ['red', 'red']\n",
    "x_values = [0,1,1,1,2.5, 4]\n",
    "y_values = [0,1, 1.5,2,2.5, 4]\n",
    "\n",
    "plt.xlabel(\"Number of Likes\")\n",
    "plt.ylabel(\"Top N-th Post\")\n",
    "plt.title(\"Ranking of Posts in No. Likes\", fontdict = {'fontsize' : 20})\n",
    "plt.scatter(x_values, y_values, c=colors, alpha=0.5)\n",
    "plt.show()\n",
    "\n"
   ]
  },
  {
   "cell_type": "code",
   "execution_count": null,
   "id": "9b13a94b",
   "metadata": {},
   "outputs": [],
   "source": []
  }
 ],
 "metadata": {
  "kernelspec": {
   "display_name": "Python 3 (ipykernel)",
   "language": "python",
   "name": "python3"
  },
  "language_info": {
   "codemirror_mode": {
    "name": "ipython",
    "version": 3
   },
   "file_extension": ".py",
   "mimetype": "text/x-python",
   "name": "python",
   "nbconvert_exporter": "python",
   "pygments_lexer": "ipython3",
   "version": "3.9.7"
  },
  "vscode": {
   "interpreter": {
    "hash": "d4d1e4263499bec80672ea0156c357c1ee493ec2b1c70f0acce89fc37c4a6abe"
   }
  }
 },
 "nbformat": 4,
 "nbformat_minor": 5
}
